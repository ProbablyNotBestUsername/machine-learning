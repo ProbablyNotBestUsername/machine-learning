{
 "cells": [
  {
   "cell_type": "code",
   "execution_count": 1,
   "metadata": {},
   "outputs": [],
   "source": [
    "import asyncio\n",
    "import re\n",
    "import pandas as pd\n",
    "from pyppeteer import launch # type: ignore"
   ]
  },
  {
   "cell_type": "code",
   "execution_count": 2,
   "metadata": {},
   "outputs": [],
   "source": [
    "async def scrape_page(page, page_number):\n",
    "    url = f\"https://www.kinopoisk.ru/lists/movies/top250/?page={page_number}\"\n",
    "    print(f\"Scraping: {url}\")\n",
    "    await page.goto(url)\n",
    "\n",
    "    await page.waitForSelector('[data-test-id=\"movie-list-item\"]')\n",
    "\n",
    "    movie_elements = await page.querySelectorAll('[data-test-id=\"movie-list-item\"]')\n",
    "\n",
    "    movies_data = []\n",
    "    for movie in movie_elements:\n",
    "        title_elem = await movie.querySelector('.styles_mainTitle__IFQyZ')\n",
    "        title = await (await title_elem.getProperty('textContent')).jsonValue() if title_elem else 'N/A'\n",
    "        title = title.strip()\n",
    "\n",
    "        secondary_elem = await movie.querySelector('.desktop-list-main-info_secondaryText__M_aus')\n",
    "        secondary_text = await (\n",
    "            await secondary_elem.getProperty('textContent')).jsonValue() if secondary_elem else 'N/A'\n",
    "        secondary_text = secondary_text.strip()\n",
    "\n",
    "        match = re.search(r'\\b(19|20)\\d{2}\\b', secondary_text)\n",
    "        year = match.group(0) if match else 'N/A'\n",
    "\n",
    "        rating_elem = await movie.querySelector('.styles_kinopoiskValuePositive__7AAZG')\n",
    "        rating = await (await rating_elem.getProperty('textContent')).jsonValue() if rating_elem else 'N/A'\n",
    "        rating = rating.strip()\n",
    "\n",
    "        additional_info_elems = await movie.querySelectorAll('.desktop-list-main-info_additionalInfo__Hqzof')\n",
    "        country = genre = director = 'N/A'\n",
    "\n",
    "        if additional_info_elems:\n",
    "            text1 = await (await additional_info_elems[0].getProperty('textContent')).jsonValue()\n",
    "            text1 = text1.strip()\n",
    "            if \"Режиссёр:\" in text1:\n",
    "                left, director_text = text1.split(\"Режиссёр:\", 1)\n",
    "                director = director_text.strip()\n",
    "                if \"•\" in left:\n",
    "                    country, genre = [part.strip() for part in left.split(\"•\", 1)]\n",
    "                else:\n",
    "                    country = left.strip()\n",
    "                    genre = 'N/A'\n",
    "            else:\n",
    "                if \"•\" in text1:\n",
    "                    country, genre = [part.strip() for part in text1.split(\"•\", 1)]\n",
    "                else:\n",
    "                    country = text1.strip()\n",
    "                    genre = 'N/A'\n",
    "        \n",
    "\n",
    "        movies_data.append({\n",
    "            'Название': title,\n",
    "            'Год': year,\n",
    "            'Рейтинг': rating,\n",
    "            'Страна': country,\n",
    "            'Жанр': genre,  \n",
    "            'Режиссёр': director\n",
    "        })\n",
    "\n",
    "    return movies_data"
   ]
  },
  {
   "cell_type": "code",
   "execution_count": 3,
   "metadata": {},
   "outputs": [],
   "source": [
    "async def scraper():\n",
    "    browser = await launch({\n",
    "        \"headless\": False,\n",
    "        \"executablePath\": r\"C:\\Program Files (x86)\\Microsoft\\Edge\\Application\\msedge.exe\"\n",
    "    })\n",
    "    page = await browser.newPage()\n",
    "    \n",
    "    all_movies = []\n",
    "    for page_number in range(1, 6):\n",
    "        movies_on_page = await scrape_page(page, page_number)\n",
    "        all_movies.extend(movies_on_page)\n",
    "\n",
    "    await browser.close()\n",
    "\n",
    "    df = pd.DataFrame(all_movies)\n",
    "    df[\"Название\"] = df[\"Название\"].astype(str)\n",
    "    df[\"Год\"] = df[\"Год\"].astype(int)\n",
    "    df[\"Рейтинг\"] = df[\"Рейтинг\"].astype(float)\n",
    "    df[\"Страна\"] = df[\"Страна\"].astype(str)\n",
    "    df[\"Жанр\"] = df[\"Жанр\"].astype(str)\n",
    "    df[\"Режиссёр\"] = df[\"Режиссёр\"].astype(str)\n",
    "\n",
    "    df.to_csv(\"kinopoisk250.csv\", index=False, header=True)\n",
    "    return df"
   ]
  },
  {
   "cell_type": "code",
   "execution_count": 4,
   "metadata": {},
   "outputs": [
    {
     "name": "stdout",
     "output_type": "stream",
     "text": [
      "Scraping: https://www.kinopoisk.ru/lists/movies/top250/?page=1\n"
     ]
    },
    {
     "ename": "NetworkError",
     "evalue": "Protocol error (Runtime.callFunctionOn): Inspected target navigated or closed",
     "output_type": "error",
     "traceback": [
      "\u001b[31m---------------------------------------------------------------------------\u001b[39m",
      "\u001b[31mNetworkError\u001b[39m                              Traceback (most recent call last)",
      "\u001b[36mCell\u001b[39m\u001b[36m \u001b[39m\u001b[32mIn[4]\u001b[39m\u001b[32m, line 1\u001b[39m\n\u001b[32m----> \u001b[39m\u001b[32m1\u001b[39m df = \u001b[38;5;28;01mawait\u001b[39;00m scraper()\n",
      "\u001b[36mCell\u001b[39m\u001b[36m \u001b[39m\u001b[32mIn[3]\u001b[39m\u001b[32m, line 10\u001b[39m, in \u001b[36mscraper\u001b[39m\u001b[34m()\u001b[39m\n\u001b[32m      8\u001b[39m all_movies = []\n\u001b[32m      9\u001b[39m \u001b[38;5;28;01mfor\u001b[39;00m page_number \u001b[38;5;129;01min\u001b[39;00m \u001b[38;5;28mrange\u001b[39m(\u001b[32m1\u001b[39m, \u001b[32m6\u001b[39m):\n\u001b[32m---> \u001b[39m\u001b[32m10\u001b[39m     movies_on_page = \u001b[38;5;28;01mawait\u001b[39;00m scrape_page(page, page_number)\n\u001b[32m     11\u001b[39m     all_movies.extend(movies_on_page)\n\u001b[32m     13\u001b[39m \u001b[38;5;28;01mawait\u001b[39;00m browser.close()\n",
      "\u001b[36mCell\u001b[39m\u001b[36m \u001b[39m\u001b[32mIn[2]\u001b[39m\u001b[32m, line 6\u001b[39m, in \u001b[36mscrape_page\u001b[39m\u001b[34m(page, page_number)\u001b[39m\n\u001b[32m      3\u001b[39m \u001b[38;5;28mprint\u001b[39m(\u001b[33mf\u001b[39m\u001b[33m\"\u001b[39m\u001b[33mScraping: \u001b[39m\u001b[38;5;132;01m{\u001b[39;00murl\u001b[38;5;132;01m}\u001b[39;00m\u001b[33m\"\u001b[39m)\n\u001b[32m      4\u001b[39m \u001b[38;5;28;01mawait\u001b[39;00m page.goto(url)\n\u001b[32m----> \u001b[39m\u001b[32m6\u001b[39m \u001b[38;5;28;01mawait\u001b[39;00m page.waitForSelector(\u001b[33m'\u001b[39m\u001b[33m[data-test-id=\u001b[39m\u001b[33m\"\u001b[39m\u001b[33mmovie-list-item\u001b[39m\u001b[33m\"\u001b[39m\u001b[33m]\u001b[39m\u001b[33m'\u001b[39m)\n\u001b[32m      8\u001b[39m movie_elements = \u001b[38;5;28;01mawait\u001b[39;00m page.querySelectorAll(\u001b[33m'\u001b[39m\u001b[33m[data-test-id=\u001b[39m\u001b[33m\"\u001b[39m\u001b[33mmovie-list-item\u001b[39m\u001b[33m\"\u001b[39m\u001b[33m]\u001b[39m\u001b[33m'\u001b[39m)\n\u001b[32m     10\u001b[39m movies_data = []\n",
      "\u001b[36mFile \u001b[39m\u001b[32mc:\\projects\\mlabg\\.venv\\Lib\\site-packages\\pyppeteer\\frame_manager.py:853\u001b[39m, in \u001b[36mWaitTask.__await__\u001b[39m\u001b[34m(self)\u001b[39m\n\u001b[32m    851\u001b[39m \u001b[38;5;28;01mdef\u001b[39;00m\u001b[38;5;250m \u001b[39m\u001b[34m__await__\u001b[39m(\u001b[38;5;28mself\u001b[39m) -> Generator:\n\u001b[32m    852\u001b[39m \u001b[38;5;250m    \u001b[39m\u001b[33;03m\"\"\"Make this class **awaitable**.\"\"\"\u001b[39;00m\n\u001b[32m--> \u001b[39m\u001b[32m853\u001b[39m     result = \u001b[38;5;28;01myield from\u001b[39;00m \u001b[38;5;28mself\u001b[39m.promise\n\u001b[32m    854\u001b[39m     \u001b[38;5;28;01mif\u001b[39;00m \u001b[38;5;28misinstance\u001b[39m(result, \u001b[38;5;167;01mException\u001b[39;00m):\n\u001b[32m    855\u001b[39m         \u001b[38;5;28;01mraise\u001b[39;00m result\n",
      "\u001b[36mFile \u001b[39m\u001b[32mc:\\projects\\mlabg\\.venv\\Lib\\site-packages\\pyppeteer\\frame_manager.py:875\u001b[39m, in \u001b[36mWaitTask.rerun\u001b[39m\u001b[34m(self)\u001b[39m\n\u001b[32m    873\u001b[39m     \u001b[38;5;28;01mif\u001b[39;00m context \u001b[38;5;129;01mis\u001b[39;00m \u001b[38;5;28;01mNone\u001b[39;00m:\n\u001b[32m    874\u001b[39m         \u001b[38;5;28;01mraise\u001b[39;00m PageError(\u001b[33m'\u001b[39m\u001b[33mNo execution context.\u001b[39m\u001b[33m'\u001b[39m)\n\u001b[32m--> \u001b[39m\u001b[32m875\u001b[39m     success = \u001b[38;5;28;01mawait\u001b[39;00m context.evaluateHandle(\n\u001b[32m    876\u001b[39m         waitForPredicatePageFunction,\n\u001b[32m    877\u001b[39m         \u001b[38;5;28mself\u001b[39m._predicateBody,\n\u001b[32m    878\u001b[39m         \u001b[38;5;28mself\u001b[39m._polling,\n\u001b[32m    879\u001b[39m         \u001b[38;5;28mself\u001b[39m._timeout,\n\u001b[32m    880\u001b[39m         *\u001b[38;5;28mself\u001b[39m._args,\n\u001b[32m    881\u001b[39m     )\n\u001b[32m    882\u001b[39m \u001b[38;5;28;01mexcept\u001b[39;00m \u001b[38;5;167;01mException\u001b[39;00m \u001b[38;5;28;01mas\u001b[39;00m e:\n\u001b[32m    883\u001b[39m     error = e\n",
      "\u001b[36mFile \u001b[39m\u001b[32mc:\\projects\\mlabg\\.venv\\Lib\\site-packages\\pyppeteer\\execution_context.py:108\u001b[39m, in \u001b[36mExecutionContext.evaluateHandle\u001b[39m\u001b[34m(self, pageFunction, force_expr, *args)\u001b[39m\n\u001b[32m     99\u001b[39m     _obj = \u001b[38;5;28;01mawait\u001b[39;00m \u001b[38;5;28mself\u001b[39m._client.send(\u001b[33m'\u001b[39m\u001b[33mRuntime.callFunctionOn\u001b[39m\u001b[33m'\u001b[39m, {\n\u001b[32m    100\u001b[39m         \u001b[33m'\u001b[39m\u001b[33mfunctionDeclaration\u001b[39m\u001b[33m'\u001b[39m: \u001b[33mf\u001b[39m\u001b[33m'\u001b[39m\u001b[38;5;132;01m{\u001b[39;00mpageFunction\u001b[38;5;132;01m}\u001b[39;00m\u001b[38;5;130;01m\\n\u001b[39;00m\u001b[38;5;132;01m{\u001b[39;00msuffix\u001b[38;5;132;01m}\u001b[39;00m\u001b[38;5;130;01m\\n\u001b[39;00m\u001b[33m'\u001b[39m,\n\u001b[32m    101\u001b[39m         \u001b[33m'\u001b[39m\u001b[33mexecutionContextId\u001b[39m\u001b[33m'\u001b[39m: \u001b[38;5;28mself\u001b[39m._contextId,\n\u001b[32m   (...)\u001b[39m\u001b[32m    105\u001b[39m         \u001b[33m'\u001b[39m\u001b[33muserGesture\u001b[39m\u001b[33m'\u001b[39m: \u001b[38;5;28;01mTrue\u001b[39;00m,\n\u001b[32m    106\u001b[39m     })\n\u001b[32m    107\u001b[39m \u001b[38;5;28;01mexcept\u001b[39;00m \u001b[38;5;167;01mException\u001b[39;00m \u001b[38;5;28;01mas\u001b[39;00m e:\n\u001b[32m--> \u001b[39m\u001b[32m108\u001b[39m     \u001b[43m_rewriteError\u001b[49m\u001b[43m(\u001b[49m\u001b[43me\u001b[49m\u001b[43m)\u001b[49m\n\u001b[32m    110\u001b[39m exceptionDetails = _obj.get(\u001b[33m'\u001b[39m\u001b[33mexceptionDetails\u001b[39m\u001b[33m'\u001b[39m)\n\u001b[32m    111\u001b[39m \u001b[38;5;28;01mif\u001b[39;00m exceptionDetails:\n",
      "\u001b[36mFile \u001b[39m\u001b[32mc:\\projects\\mlabg\\.venv\\Lib\\site-packages\\pyppeteer\\execution_context.py:238\u001b[39m, in \u001b[36m_rewriteError\u001b[39m\u001b[34m(error)\u001b[39m\n\u001b[32m    236\u001b[39m     msg = \u001b[33m'\u001b[39m\u001b[33mExecution context was destroyed, most likely because of a navigation.\u001b[39m\u001b[33m'\u001b[39m  \u001b[38;5;66;03m# noqa: E501\u001b[39;00m\n\u001b[32m    237\u001b[39m     \u001b[38;5;28;01mraise\u001b[39;00m \u001b[38;5;28mtype\u001b[39m(error)(msg)\n\u001b[32m--> \u001b[39m\u001b[32m238\u001b[39m \u001b[38;5;28;01mraise\u001b[39;00m error\n",
      "\u001b[36mFile \u001b[39m\u001b[32mc:\\projects\\mlabg\\.venv\\Lib\\site-packages\\pyppeteer\\execution_context.py:99\u001b[39m, in \u001b[36mExecutionContext.evaluateHandle\u001b[39m\u001b[34m(self, pageFunction, force_expr, *args)\u001b[39m\n\u001b[32m     96\u001b[39m     \u001b[38;5;28;01mreturn\u001b[39;00m \u001b[38;5;28mself\u001b[39m._objectHandleFactory(remoteObject)\n\u001b[32m     98\u001b[39m \u001b[38;5;28;01mtry\u001b[39;00m:\n\u001b[32m---> \u001b[39m\u001b[32m99\u001b[39m     _obj = \u001b[38;5;28;01mawait\u001b[39;00m \u001b[38;5;28mself\u001b[39m._client.send(\u001b[33m'\u001b[39m\u001b[33mRuntime.callFunctionOn\u001b[39m\u001b[33m'\u001b[39m, {\n\u001b[32m    100\u001b[39m         \u001b[33m'\u001b[39m\u001b[33mfunctionDeclaration\u001b[39m\u001b[33m'\u001b[39m: \u001b[33mf\u001b[39m\u001b[33m'\u001b[39m\u001b[38;5;132;01m{\u001b[39;00mpageFunction\u001b[38;5;132;01m}\u001b[39;00m\u001b[38;5;130;01m\\n\u001b[39;00m\u001b[38;5;132;01m{\u001b[39;00msuffix\u001b[38;5;132;01m}\u001b[39;00m\u001b[38;5;130;01m\\n\u001b[39;00m\u001b[33m'\u001b[39m,\n\u001b[32m    101\u001b[39m         \u001b[33m'\u001b[39m\u001b[33mexecutionContextId\u001b[39m\u001b[33m'\u001b[39m: \u001b[38;5;28mself\u001b[39m._contextId,\n\u001b[32m    102\u001b[39m         \u001b[33m'\u001b[39m\u001b[33marguments\u001b[39m\u001b[33m'\u001b[39m: [\u001b[38;5;28mself\u001b[39m._convertArgument(arg) \u001b[38;5;28;01mfor\u001b[39;00m arg \u001b[38;5;129;01min\u001b[39;00m args],\n\u001b[32m    103\u001b[39m         \u001b[33m'\u001b[39m\u001b[33mreturnByValue\u001b[39m\u001b[33m'\u001b[39m: \u001b[38;5;28;01mFalse\u001b[39;00m,\n\u001b[32m    104\u001b[39m         \u001b[33m'\u001b[39m\u001b[33mawaitPromise\u001b[39m\u001b[33m'\u001b[39m: \u001b[38;5;28;01mTrue\u001b[39;00m,\n\u001b[32m    105\u001b[39m         \u001b[33m'\u001b[39m\u001b[33muserGesture\u001b[39m\u001b[33m'\u001b[39m: \u001b[38;5;28;01mTrue\u001b[39;00m,\n\u001b[32m    106\u001b[39m     })\n\u001b[32m    107\u001b[39m \u001b[38;5;28;01mexcept\u001b[39;00m \u001b[38;5;167;01mException\u001b[39;00m \u001b[38;5;28;01mas\u001b[39;00m e:\n\u001b[32m    108\u001b[39m     _rewriteError(e)\n",
      "\u001b[31mNetworkError\u001b[39m: Protocol error (Runtime.callFunctionOn): Inspected target navigated or closed"
     ]
    }
   ],
   "source": [
    "df = await scraper()"
   ]
  },
  {
   "cell_type": "code",
   "execution_count": null,
   "metadata": {},
   "outputs": [
    {
     "name": "stdout",
     "output_type": "stream",
     "text": [
      "                       Название   Год  Рейтинг          Страна        Жанр  \\\n",
      "0                           1+1  2011      8.4         Франция       драма   \n",
      "1                  Интерстеллар  2014      8.3             США  фантастика   \n",
      "2             Побег из Шоушенка  1994      8.2             США       драма   \n",
      "3              Остров проклятых  2009      8.1             США     триллер   \n",
      "4                  Зеленая миля  1999      8.1             США       драма   \n",
      "..                          ...   ...      ...             ...         ...   \n",
      "245             Сплетение судеб  2023      7.2         Франция       драма   \n",
      "246               Летят журавли  1957      7.2            СССР     военный   \n",
      "247                     Мементо  2000      7.2             США     триллер   \n",
      "248  Мальчик в полосатой пижаме  2008      7.2  Великобритания       драма   \n",
      "249         Ford против Ferrari  2019      7.2             США   биография   \n",
      "\n",
      "              Режиссёр  \n",
      "0         Оливье Накаш  \n",
      "1      Кристофер Нолан  \n",
      "2       Фрэнк Дарабонт  \n",
      "3      Мартин Скорсезе  \n",
      "4       Фрэнк Дарабонт  \n",
      "..                 ...  \n",
      "245  Летиция Коломбани  \n",
      "246   Михаил Калатозов  \n",
      "247    Кристофер Нолан  \n",
      "248        Марк Херман  \n",
      "249     Джеймс Мэнголд  \n",
      "\n",
      "[250 rows x 6 columns]\n"
     ]
    }
   ],
   "source": [
    "print(df)"
   ]
  }
 ],
 "metadata": {
  "kernelspec": {
   "display_name": "mlabg",
   "language": "python",
   "name": "python3"
  },
  "language_info": {
   "codemirror_mode": {
    "name": "ipython",
    "version": 3
   },
   "file_extension": ".py",
   "mimetype": "text/x-python",
   "name": "python",
   "nbconvert_exporter": "python",
   "pygments_lexer": "ipython3",
   "version": "3.12.5"
  }
 },
 "nbformat": 4,
 "nbformat_minor": 2
}
