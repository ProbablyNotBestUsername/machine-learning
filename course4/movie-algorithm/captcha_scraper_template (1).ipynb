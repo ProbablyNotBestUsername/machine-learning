{
 "cells": [
  {
   "cell_type": "markdown",
   "id": "4afdeaf0",
   "metadata": {},
   "source": [
    "# CAPTCHA‑aware Kinopoisk Scraper\n",
    "This notebook demonstrates how to pause scraping when the website presents a CAPTCHA challenge and resume automatically after you solve it.\n",
    "\n",
    "It uses **pyppeteer**. Make sure you have it installed:\n",
    "```bash\n",
    "pip install pyppeteer\n",
    "```\n",
    "⚠️ **Edit the `executablePath` to match your browser location** or remove the argument to let pyppeteer download Chromium automatically."
   ]
  },
  {
   "cell_type": "code",
   "execution_count": 1,
   "id": "4e08fc49",
   "metadata": {},
   "outputs": [],
   "source": [
    "import asyncio\n",
    "from pyppeteer import launch\n",
    "from random import randint\n",
    "\n",
    "# Optional: tweak these to be less detectable\n",
    "USER_AGENTS = [\n",
    "    'Mozilla/5.0 (Windows NT 10.0; Win64; x64) AppleWebKit/537.36 (KHTML, like Gecko) Chrome/117.0.0.0 Safari/537.36',\n",
    "    'Mozilla/5.0 (Macintosh; Intel Mac OS X 11_7_10) AppleWebKit/605.1.15 (KHTML, like Gecko) Version/17.0 Safari/605.1.15',\n",
    "]"
   ]
  },
  {
   "cell_type": "code",
   "execution_count": 2,
   "id": "50926c62",
   "metadata": {},
   "outputs": [],
   "source": [
    "CAPTCHA_MARKER = 'captcha'\n",
    "LIST_ITEM      = '[data-test-id=\"movie-list-item\"]'  # selector present on real page\n"
   ]
  },
  {
   "cell_type": "code",
   "execution_count": 3,
   "id": "ce2ce2dd",
   "metadata": {},
   "outputs": [],
   "source": [
    "async def wait_until_captcha_is_gone(page):\n",
    "    \"\"\"Pause while the tab shows a CAPTCHA, resume when it disappears.\"\"\"\n",
    "    print('🛑 CAPTCHA shown – please solve it in the browser window…')\n",
    "    while CAPTCHA_MARKER in page.url:\n",
    "        # Wait for the next navigation (user completed CAPTCHA)\n",
    "        await page.waitForNavigation({'waitUntil': 'domcontentloaded'})\n",
    "    # Ensure the real content is ready\n",
    "    await page.waitForSelector(LIST_ITEM, timeout=0)\n",
    "    print('✅ CAPTCHA solved, continuing…')\n",
    "\n",
    "async def safe_goto(page, url):\n",
    "    await page.goto(url, {'waitUntil': 'domcontentloaded'})\n",
    "    if CAPTCHA_MARKER in page.url:\n",
    "        await wait_until_captcha_is_gone(page)\n",
    "    await page.waitForSelector(LIST_ITEM, timeout=0)\n"
   ]
  },
  {
   "cell_type": "code",
   "execution_count": 4,
   "id": "5463c34e",
   "metadata": {},
   "outputs": [],
   "source": [
    "\n",
    "async def scrape_page(page, page_number):\n",
    "    url = f'https://www.kinopoisk.ru/lists/movies/top250/?page={page_number}'\n",
    "    print(f'Scraping {url}')\n",
    "    await safe_goto(page, url)\n",
    "\n",
    "    movie_elements = await page.querySelectorAll(LIST_ITEM)\n",
    "    movies_data = []\n",
    "\n",
    "    for el in movie_elements:\n",
    "        # Strategy 1: try the known data-tid selector\n",
    "        title_handle = await el.querySelector('[data-tid=\"63c89e5b\"]')\n",
    "        if title_handle:\n",
    "            title_text = (await (await title_handle.getProperty('textContent')).jsonValue()).strip()\n",
    "        else:\n",
    "            # Fallback: grab the *entire* element's visible text\n",
    "            title_text = (await page.evaluate('(e) => e.innerText', el)).split('\\n')[0].strip()\n",
    "\n",
    "        movies_data.append(title_text)\n",
    "\n",
    "    # Random delay to mimic human behaviour and reduce CAPTCHA frequency\n",
    "    await asyncio.sleep(randint(2, 5))\n",
    "    return movies_data\n"
   ]
  },
  {
   "cell_type": "code",
   "execution_count": 5,
   "id": "2f0ad518",
   "metadata": {},
   "outputs": [],
   "source": [
    "async def scraper(max_pages=5):\n",
    "    browser = await launch(\n",
    "        headless=False,\n",
    "        executablePath=r'C:\\\\Program Files (x86)\\\\Microsoft\\\\Edge\\\\Application\\\\msedge.exe',\n",
    "        args=['--disable-blink-features=AutomationControlled']\n",
    "    )\n",
    "    page = await browser.newPage()\n",
    "    page.setUserAgent(USER_AGENTS[randint(0, len(USER_AGENTS)-1)])\n",
    "\n",
    "    all_movies = []\n",
    "    for page_number in range(1, max_pages + 1):\n",
    "        all_movies += await scrape_page(page, page_number)\n",
    "\n",
    "    print(f'Total movies scraped: {len(all_movies)}')\n",
    "    await browser.close()\n",
    "    return all_movies\n"
   ]
  },
  {
   "cell_type": "code",
   "execution_count": 6,
   "id": "1d241e39",
   "metadata": {},
   "outputs": [
    {
     "name": "stderr",
     "output_type": "stream",
     "text": [
      "C:\\Users\\admin\\AppData\\Local\\Temp\\ipykernel_23912\\1727119272.py:8: RuntimeWarning: coroutine 'Page.setUserAgent' was never awaited\n",
      "  page.setUserAgent(USER_AGENTS[randint(0, len(USER_AGENTS)-1)])\n",
      "RuntimeWarning: Enable tracemalloc to get the object allocation traceback\n"
     ]
    },
    {
     "name": "stdout",
     "output_type": "stream",
     "text": [
      "Scraping https://www.kinopoisk.ru/lists/movies/top250/?page=1\n",
      "🛑 CAPTCHA shown – please solve it in the browser window…\n",
      "✅ CAPTCHA solved, continuing…\n",
      "Scraping https://www.kinopoisk.ru/lists/movies/top250/?page=2\n",
      "Scraping https://www.kinopoisk.ru/lists/movies/top250/?page=3\n",
      "Scraping https://www.kinopoisk.ru/lists/movies/top250/?page=4\n",
      "Scraping https://www.kinopoisk.ru/lists/movies/top250/?page=5\n",
      "Total movies scraped: 250\n"
     ]
    },
    {
     "data": {
      "text/plain": [
       "['1', '2', '3', '4', '5', '6', '7', '8', '9', '10']"
      ]
     },
     "execution_count": 6,
     "metadata": {},
     "output_type": "execute_result"
    }
   ],
   "source": [
    "# Run the scraper (opens a non‑headless browser)\n",
    "movies = await scraper(max_pages=5)\n",
    "movies[:10]  # peek at first 10 results"
   ]
  }
 ],
 "metadata": {
  "kernelspec": {
   "display_name": "mlabg",
   "language": "python",
   "name": "python3"
  },
  "language_info": {
   "codemirror_mode": {
    "name": "ipython",
    "version": 3
   },
   "file_extension": ".py",
   "mimetype": "text/x-python",
   "name": "python",
   "nbconvert_exporter": "python",
   "pygments_lexer": "ipython3",
   "version": "3.12.5"
  }
 },
 "nbformat": 4,
 "nbformat_minor": 5
}
