{
 "cells": [
  {
   "cell_type": "code",
   "execution_count": null,
   "id": "8fcfbc46",
   "metadata": {},
   "outputs": [],
   "source": [
    "import pandas as pd\n",
    "import numpy as np\n",
    "import matplotlib.pyplot as plt\n",
    "import seaborn as sns\n",
    "\n",
    "import re\n",
    "from pyppeteer import launch # type: ignore\n",
    "from random import randint\n",
    "\n",
    "%matplotlib inline"
   ]
  },
  {
   "cell_type": "code",
   "execution_count": 112,
   "id": "54be6ee7",
   "metadata": {},
   "outputs": [],
   "source": [
    "USER_AGENTS = [\n",
    "    'Mozilla/5.0 (Windows NT 10.0; Win64; x64) AppleWebKit/537.36 (KHTML, like Gecko) Chrome/117.0.0.0 Safari/537.36',\n",
    "    'Mozilla/5.0 (Macintosh; Intel Mac OS X 11_7_10) AppleWebKit/605.1.15 (KHTML, like Gecko) Version/17.0 Safari/605.1.15',\n",
    "]\n",
    "CAPTCHA_MARKER = \"captcha\"\n",
    "LIST_ITEM = '[data-test-id=\"movie-list-item\"]'"
   ]
  },
  {
   "cell_type": "code",
   "execution_count": null,
   "id": "abd394bc",
   "metadata": {},
   "outputs": [],
   "source": [
    "async def wait_captcha(page):\n",
    "  print('🛑 Captcha shown')\n",
    "  while CAPTCHA_MARKER in page.url:\n",
    "    await page.waitForNavigation({'waitUntil': 'domcontentloaded'})\n",
    "  await page.waitForSelector(LIST_ITEM, timeout=0)\n",
    "  print('✅ Captcha solved')"
   ]
  },
  {
   "cell_type": "code",
   "execution_count": 114,
   "id": "ff54d61d",
   "metadata": {},
   "outputs": [],
   "source": [
    "async def safe_goto(page, url):\n",
    "  await page.goto(url, {'waitUntil': 'domcontentloaded'})\n",
    "  if CAPTCHA_MARKER in page.url:\n",
    "    await wait_captcha(page)\n",
    "  await page.waitForSelector(LIST_ITEM, timeout=0)"
   ]
  },
  {
   "cell_type": "code",
   "execution_count": null,
   "id": "b4b584ce",
   "metadata": {},
   "outputs": [],
   "source": [
    "async def scrape_movie(page, page_number):\n",
    "    url = f\"https://www.kinopoisk.ru/lists/movies/top250/?page={page_number}\"\n",
    "    print(f\"Scraping: {url}\")\n",
    "    await safe_goto(page, url)\n",
    "\n",
    "    movie_elements = await page.querySelectorAll('[data-test-id=\"movie-list-item\"]')\n",
    "\n",
    "    movies_data = []\n",
    "    for movie in movie_elements:\n",
    "        href_elem = await movie.querySelector('.base-movie-main-info_link__K161e')\n",
    "        href = await (await href_elem.getProperty('href')).jsonValue() if href_elem else 'None'\n",
    "        movie_id = re.search(r'(\\d{3,})', href).group(1) if href != None else 'None'\n",
    "\n",
    "\n",
    "        title_elem = await movie.querySelector('[class^=\"styles_mainTitle__\"]')\n",
    "        title = await (await title_elem.getProperty('textContent')).jsonValue() if title_elem else 'None'\n",
    "        title = title.strip()\n",
    "\n",
    "        secondary_elem = await movie.querySelector('[class^=\"desktop-list-main-info_secondaryTitleSlot__\"]')\n",
    "        secondary_text = await (\n",
    "            await secondary_elem.getProperty('textContent')).jsonValue() if secondary_elem else 'None'\n",
    "        secondary_text = secondary_text.strip()\n",
    "\n",
    "        match = re.search(r'\\b(19|20)\\d{2}\\b', secondary_text)\n",
    "        year = match.group(0) if match else 'None'\n",
    "\n",
    "        rating_elem = await movie.querySelector('[class^=\"styles_kinopoiskValuePositive__\"]')\n",
    "        rating = await (await rating_elem.getProperty('textContent')).jsonValue() if rating_elem else 'None'\n",
    "        rating = rating.strip()\n",
    "\n",
    "        additional_info_elems = await movie.querySelectorAll('[class^=\"desktop-list-main-info_additionalInfo__\"]')\n",
    "        country = genre = director = None\n",
    "\n",
    "        if additional_info_elems:\n",
    "            text1 = await (await additional_info_elems[0].getProperty('textContent')).jsonValue()\n",
    "            text1 = text1.strip()\n",
    "            if \"Режиссёр:\" in text1:\n",
    "                left, director_text = text1.split(\"Режиссёр:\", 1)\n",
    "                director = director_text.strip()\n",
    "                if \"•\" in left:\n",
    "                    country, genre = [part.strip() for part in left.split(\"•\", 1)]\n",
    "                else:\n",
    "                    country = left.strip()\n",
    "                    genre = None\n",
    "            else:\n",
    "                if \"•\" in text1:\n",
    "                    country, genre = [part.strip() for part in text1.split(\"•\", 1)]\n",
    "                else:\n",
    "                    country = text1.strip()\n",
    "                    genre = None\n",
    "        \n",
    "\n",
    "        movies_data.append({\n",
    "            'id': movie_id,\n",
    "            'Название': title,\n",
    "            'Год': year,\n",
    "            'Рейтинг': rating,\n",
    "            'Страна': country,\n",
    "            'Жанр': genre,  \n",
    "            'Режиссёр': director\n",
    "        })\n",
    "\n",
    "    return movies_data"
   ]
  },
  {
   "cell_type": "code",
   "execution_count": null,
   "id": "a85d76b5",
   "metadata": {},
   "outputs": [],
   "source": [
    "async def scraper():\n",
    "    browser = await launch({\n",
    "        \"headless\": False,\n",
    "        \"executablePath\": r\"C:\\Program Files (x86)\\Microsoft\\Edge\\Application\\msedge.exe\",\n",
    "        \"args\": [\"--disable-blink-features=AutomationControlled\"]\n",
    "    })\n",
    "    page = await browser.newPage()\n",
    "    await page.setUserAgent(USER_AGENTS[randint(0, len(USER_AGENTS)-1)])\n",
    "    \n",
    "    all_movies = []\n",
    "    for page_number in range(1, 6):\n",
    "        movies_on_page = await scrape_movie(page, page_number)\n",
    "        all_movies.extend(movies_on_page)\n",
    "\n",
    "    await browser.close()\n",
    "\n",
    "    df = pd.DataFrame(all_movies)\n",
    "    df[\"id\"] = df[\"id\"].astype(int)\n",
    "    df[\"Название\"] = df[\"Название\"].astype(str)\n",
    "    df[\"Год\"] = df[\"Год\"].astype(int)\n",
    "    df[\"Рейтинг\"] = df[\"Рейтинг\"].astype(float)\n",
    "    df[\"Страна\"] = df[\"Страна\"].astype(str)\n",
    "    df[\"Жанр\"] = df[\"Жанр\"].astype(str)\n",
    "    df[\"Режиссёр\"] = df[\"Режиссёр\"].astype(str)\n",
    "\n",
    "    df.to_csv(\"movies.csv\", index=False, header=True)\n",
    "    return df"
   ]
  },
  {
   "cell_type": "code",
   "execution_count": 117,
   "id": "74e3d665",
   "metadata": {},
   "outputs": [
    {
     "name": "stdout",
     "output_type": "stream",
     "text": [
      "Scraping: https://www.kinopoisk.ru/lists/movies/top250/?page=1\n",
      "Scraping: https://www.kinopoisk.ru/lists/movies/top250/?page=2\n",
      "Scraping: https://www.kinopoisk.ru/lists/movies/top250/?page=3\n",
      "Scraping: https://www.kinopoisk.ru/lists/movies/top250/?page=4\n",
      "Scraping: https://www.kinopoisk.ru/lists/movies/top250/?page=5\n"
     ]
    }
   ],
   "source": [
    "movies = await scraper()"
   ]
  },
  {
   "cell_type": "code",
   "execution_count": null,
   "id": "6b5f62ca",
   "metadata": {
    "vscode": {
     "languageId": "javascript"
    }
   },
   "outputs": [],
   "source": [
    "const votes = Array.from(document.querySelectorAll('tr.rating_item')).map(row => ({\n",
    "  href:   row.querySelector('.profile_name a[href^=\"/user/\"]').getAttribute('href'),\n",
    "  rating: row.querySelector('.comm-title table td').textContent.trim()\n",
    "}));\n",
    "\n",
    "votes"
   ]
  },
  {
   "cell_type": "code",
   "execution_count": null,
   "id": "6fdd6383",
   "metadata": {},
   "outputs": [],
   "source": []
  },
  {
   "cell_type": "code",
   "execution_count": null,
   "id": "3ff85a52",
   "metadata": {},
   "outputs": [],
   "source": []
  }
 ],
 "metadata": {
  "kernelspec": {
   "display_name": "mlabg",
   "language": "python",
   "name": "python3"
  },
  "language_info": {
   "codemirror_mode": {
    "name": "ipython",
    "version": 3
   },
   "file_extension": ".py",
   "mimetype": "text/x-python",
   "name": "python",
   "nbconvert_exporter": "python",
   "pygments_lexer": "ipython3",
   "version": "3.12.5"
  }
 },
 "nbformat": 4,
 "nbformat_minor": 5
}
