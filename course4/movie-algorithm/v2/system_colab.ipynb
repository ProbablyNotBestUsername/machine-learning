{
 "cells": [
  {
   "cell_type": "markdown",
   "id": "cf75db77",
   "metadata": {},
   "source": [
    "##### <h1 id=\"aa\" align=\"center\" style=\"color:white;background:#8B0000;padding:18px;border-radius:15px 15px;\"> РЕКОМЕНДОВАТЕЛЬНАЯ СИСТЕМА ФИЛЬМОВ </h1> #####"
   ]
  },
  {
   "cell_type": "markdown",
   "id": "988c4502",
   "metadata": {},
   "source": [
    "Цели и задачи проекта:\n",
    "\n",
    "Разработайте программный интерфейс для итоговой модели машинного \n",
    "обучения. API должен позволить приложению пользователя получать:  \n",
    "1) списка топ-10 популярных фильмов (на основе взвешенных \n",
    "рейтингов); \n",
    "2) доступ к рекомендательной системе для прогнозирования списка 10 \n",
    "рекомендованных фильмов по жанру; \n",
    "3) доступ к рекомендательной системе для прогнозирования списка 10 \n",
    "рекомендованных фильмов по контенту (по названию фильма); \n",
    "4) доступ к рекомендательной системе для прогнозирования списка 10 \n",
    "рекомендованных фильмов по контенту (коллаборативная \n",
    "фильтрация)"
   ]
  },
  {
   "cell_type": "markdown",
   "id": "12f74998",
   "metadata": {},
   "source": [
    "___"
   ]
  },
  {
   "cell_type": "code",
   "execution_count": null,
   "id": "45ebb4d6",
   "metadata": {},
   "outputs": [],
   "source": [
    "!pip install kaggle google pandas scikit-learn matplotlib\n",
    "from google.colab import drive\n",
    "drive.mount('/content/drive')\n",
    "!mkdir -p ~/.kaggle\n",
    "!cp /content/drive/MyDrive/Kaggle_API/kaggle.json ~/.kaggle/\n",
    "!chmod 600 ~/.kaggle/kaggle.json"
   ]
  },
  {
   "cell_type": "code",
   "execution_count": null,
   "id": "b0a1097f",
   "metadata": {},
   "outputs": [],
   "source": [
    "!mkdir -p /content/data\n",
    "!kaggle datasets download -d rounakbanik/the-movies-dataset -p /content/data --unzip --force"
   ]
  },
  {
   "cell_type": "code",
   "execution_count": null,
   "id": "5cfb6457",
   "metadata": {},
   "outputs": [],
   "source": [
    "import pandas as pd\n",
    "import matplotlib.pyplot as plt\n",
    "import seaborn as sns\n",
    "import ast\n",
    "import pickle\n",
    "\n",
    "from sklearn.feature_extraction.text import TfidfVectorizer\n",
    "from sklearn.neighbors import NearestNeighbors\n",
    "\n",
    "import warnings\n",
    "warnings.filterwarnings('ignore')\n",
    "%matplotlib inline"
   ]
  },
  {
   "cell_type": "code",
   "execution_count": null,
   "id": "66924bb7",
   "metadata": {},
   "outputs": [
    {
     "ename": "FileNotFoundError",
     "evalue": "[Errno 2] No such file or directory: '/content/data/movies_metadata.csv'",
     "output_type": "error",
     "traceback": [
      "\u001b[31m---------------------------------------------------------------------------\u001b[39m",
      "\u001b[31mFileNotFoundError\u001b[39m                         Traceback (most recent call last)",
      "\u001b[36mCell\u001b[39m\u001b[36m \u001b[39m\u001b[32mIn[4]\u001b[39m\u001b[32m, line 1\u001b[39m\n\u001b[32m----> \u001b[39m\u001b[32m1\u001b[39m df_movies = \u001b[43mpd\u001b[49m\u001b[43m.\u001b[49m\u001b[43mread_csv\u001b[49m\u001b[43m(\u001b[49m\u001b[33;43m\"\u001b[39;49m\u001b[33;43m/content/data/movies_metadata.csv\u001b[39;49m\u001b[33;43m\"\u001b[39;49m\u001b[43m)\u001b[49m\n\u001b[32m      2\u001b[39m df_credits = pd.read_csv(\u001b[33m\"\u001b[39m\u001b[33m/content/data/credits.csv\u001b[39m\u001b[33m\"\u001b[39m)\n\u001b[32m      3\u001b[39m df_keywords = pd.read_csv(\u001b[33m\"\u001b[39m\u001b[33m/content/data/keywords.csv\u001b[39m\u001b[33m\"\u001b[39m)\n",
      "\u001b[36mFile \u001b[39m\u001b[32mc:\\Users\\user\\projects\\machine-learning\\.venv\\Lib\\site-packages\\pandas\\io\\parsers\\readers.py:1026\u001b[39m, in \u001b[36mread_csv\u001b[39m\u001b[34m(filepath_or_buffer, sep, delimiter, header, names, index_col, usecols, dtype, engine, converters, true_values, false_values, skipinitialspace, skiprows, skipfooter, nrows, na_values, keep_default_na, na_filter, verbose, skip_blank_lines, parse_dates, infer_datetime_format, keep_date_col, date_parser, date_format, dayfirst, cache_dates, iterator, chunksize, compression, thousands, decimal, lineterminator, quotechar, quoting, doublequote, escapechar, comment, encoding, encoding_errors, dialect, on_bad_lines, delim_whitespace, low_memory, memory_map, float_precision, storage_options, dtype_backend)\u001b[39m\n\u001b[32m   1013\u001b[39m kwds_defaults = _refine_defaults_read(\n\u001b[32m   1014\u001b[39m     dialect,\n\u001b[32m   1015\u001b[39m     delimiter,\n\u001b[32m   (...)\u001b[39m\u001b[32m   1022\u001b[39m     dtype_backend=dtype_backend,\n\u001b[32m   1023\u001b[39m )\n\u001b[32m   1024\u001b[39m kwds.update(kwds_defaults)\n\u001b[32m-> \u001b[39m\u001b[32m1026\u001b[39m \u001b[38;5;28;01mreturn\u001b[39;00m \u001b[43m_read\u001b[49m\u001b[43m(\u001b[49m\u001b[43mfilepath_or_buffer\u001b[49m\u001b[43m,\u001b[49m\u001b[43m \u001b[49m\u001b[43mkwds\u001b[49m\u001b[43m)\u001b[49m\n",
      "\u001b[36mFile \u001b[39m\u001b[32mc:\\Users\\user\\projects\\machine-learning\\.venv\\Lib\\site-packages\\pandas\\io\\parsers\\readers.py:620\u001b[39m, in \u001b[36m_read\u001b[39m\u001b[34m(filepath_or_buffer, kwds)\u001b[39m\n\u001b[32m    617\u001b[39m _validate_names(kwds.get(\u001b[33m\"\u001b[39m\u001b[33mnames\u001b[39m\u001b[33m\"\u001b[39m, \u001b[38;5;28;01mNone\u001b[39;00m))\n\u001b[32m    619\u001b[39m \u001b[38;5;66;03m# Create the parser.\u001b[39;00m\n\u001b[32m--> \u001b[39m\u001b[32m620\u001b[39m parser = \u001b[43mTextFileReader\u001b[49m\u001b[43m(\u001b[49m\u001b[43mfilepath_or_buffer\u001b[49m\u001b[43m,\u001b[49m\u001b[43m \u001b[49m\u001b[43m*\u001b[49m\u001b[43m*\u001b[49m\u001b[43mkwds\u001b[49m\u001b[43m)\u001b[49m\n\u001b[32m    622\u001b[39m \u001b[38;5;28;01mif\u001b[39;00m chunksize \u001b[38;5;129;01mor\u001b[39;00m iterator:\n\u001b[32m    623\u001b[39m     \u001b[38;5;28;01mreturn\u001b[39;00m parser\n",
      "\u001b[36mFile \u001b[39m\u001b[32mc:\\Users\\user\\projects\\machine-learning\\.venv\\Lib\\site-packages\\pandas\\io\\parsers\\readers.py:1620\u001b[39m, in \u001b[36mTextFileReader.__init__\u001b[39m\u001b[34m(self, f, engine, **kwds)\u001b[39m\n\u001b[32m   1617\u001b[39m     \u001b[38;5;28mself\u001b[39m.options[\u001b[33m\"\u001b[39m\u001b[33mhas_index_names\u001b[39m\u001b[33m\"\u001b[39m] = kwds[\u001b[33m\"\u001b[39m\u001b[33mhas_index_names\u001b[39m\u001b[33m\"\u001b[39m]\n\u001b[32m   1619\u001b[39m \u001b[38;5;28mself\u001b[39m.handles: IOHandles | \u001b[38;5;28;01mNone\u001b[39;00m = \u001b[38;5;28;01mNone\u001b[39;00m\n\u001b[32m-> \u001b[39m\u001b[32m1620\u001b[39m \u001b[38;5;28mself\u001b[39m._engine = \u001b[38;5;28;43mself\u001b[39;49m\u001b[43m.\u001b[49m\u001b[43m_make_engine\u001b[49m\u001b[43m(\u001b[49m\u001b[43mf\u001b[49m\u001b[43m,\u001b[49m\u001b[43m \u001b[49m\u001b[38;5;28;43mself\u001b[39;49m\u001b[43m.\u001b[49m\u001b[43mengine\u001b[49m\u001b[43m)\u001b[49m\n",
      "\u001b[36mFile \u001b[39m\u001b[32mc:\\Users\\user\\projects\\machine-learning\\.venv\\Lib\\site-packages\\pandas\\io\\parsers\\readers.py:1880\u001b[39m, in \u001b[36mTextFileReader._make_engine\u001b[39m\u001b[34m(self, f, engine)\u001b[39m\n\u001b[32m   1878\u001b[39m     \u001b[38;5;28;01mif\u001b[39;00m \u001b[33m\"\u001b[39m\u001b[33mb\u001b[39m\u001b[33m\"\u001b[39m \u001b[38;5;129;01mnot\u001b[39;00m \u001b[38;5;129;01min\u001b[39;00m mode:\n\u001b[32m   1879\u001b[39m         mode += \u001b[33m\"\u001b[39m\u001b[33mb\u001b[39m\u001b[33m\"\u001b[39m\n\u001b[32m-> \u001b[39m\u001b[32m1880\u001b[39m \u001b[38;5;28mself\u001b[39m.handles = \u001b[43mget_handle\u001b[49m\u001b[43m(\u001b[49m\n\u001b[32m   1881\u001b[39m \u001b[43m    \u001b[49m\u001b[43mf\u001b[49m\u001b[43m,\u001b[49m\n\u001b[32m   1882\u001b[39m \u001b[43m    \u001b[49m\u001b[43mmode\u001b[49m\u001b[43m,\u001b[49m\n\u001b[32m   1883\u001b[39m \u001b[43m    \u001b[49m\u001b[43mencoding\u001b[49m\u001b[43m=\u001b[49m\u001b[38;5;28;43mself\u001b[39;49m\u001b[43m.\u001b[49m\u001b[43moptions\u001b[49m\u001b[43m.\u001b[49m\u001b[43mget\u001b[49m\u001b[43m(\u001b[49m\u001b[33;43m\"\u001b[39;49m\u001b[33;43mencoding\u001b[39;49m\u001b[33;43m\"\u001b[39;49m\u001b[43m,\u001b[49m\u001b[43m \u001b[49m\u001b[38;5;28;43;01mNone\u001b[39;49;00m\u001b[43m)\u001b[49m\u001b[43m,\u001b[49m\n\u001b[32m   1884\u001b[39m \u001b[43m    \u001b[49m\u001b[43mcompression\u001b[49m\u001b[43m=\u001b[49m\u001b[38;5;28;43mself\u001b[39;49m\u001b[43m.\u001b[49m\u001b[43moptions\u001b[49m\u001b[43m.\u001b[49m\u001b[43mget\u001b[49m\u001b[43m(\u001b[49m\u001b[33;43m\"\u001b[39;49m\u001b[33;43mcompression\u001b[39;49m\u001b[33;43m\"\u001b[39;49m\u001b[43m,\u001b[49m\u001b[43m \u001b[49m\u001b[38;5;28;43;01mNone\u001b[39;49;00m\u001b[43m)\u001b[49m\u001b[43m,\u001b[49m\n\u001b[32m   1885\u001b[39m \u001b[43m    \u001b[49m\u001b[43mmemory_map\u001b[49m\u001b[43m=\u001b[49m\u001b[38;5;28;43mself\u001b[39;49m\u001b[43m.\u001b[49m\u001b[43moptions\u001b[49m\u001b[43m.\u001b[49m\u001b[43mget\u001b[49m\u001b[43m(\u001b[49m\u001b[33;43m\"\u001b[39;49m\u001b[33;43mmemory_map\u001b[39;49m\u001b[33;43m\"\u001b[39;49m\u001b[43m,\u001b[49m\u001b[43m \u001b[49m\u001b[38;5;28;43;01mFalse\u001b[39;49;00m\u001b[43m)\u001b[49m\u001b[43m,\u001b[49m\n\u001b[32m   1886\u001b[39m \u001b[43m    \u001b[49m\u001b[43mis_text\u001b[49m\u001b[43m=\u001b[49m\u001b[43mis_text\u001b[49m\u001b[43m,\u001b[49m\n\u001b[32m   1887\u001b[39m \u001b[43m    \u001b[49m\u001b[43merrors\u001b[49m\u001b[43m=\u001b[49m\u001b[38;5;28;43mself\u001b[39;49m\u001b[43m.\u001b[49m\u001b[43moptions\u001b[49m\u001b[43m.\u001b[49m\u001b[43mget\u001b[49m\u001b[43m(\u001b[49m\u001b[33;43m\"\u001b[39;49m\u001b[33;43mencoding_errors\u001b[39;49m\u001b[33;43m\"\u001b[39;49m\u001b[43m,\u001b[49m\u001b[43m \u001b[49m\u001b[33;43m\"\u001b[39;49m\u001b[33;43mstrict\u001b[39;49m\u001b[33;43m\"\u001b[39;49m\u001b[43m)\u001b[49m\u001b[43m,\u001b[49m\n\u001b[32m   1888\u001b[39m \u001b[43m    \u001b[49m\u001b[43mstorage_options\u001b[49m\u001b[43m=\u001b[49m\u001b[38;5;28;43mself\u001b[39;49m\u001b[43m.\u001b[49m\u001b[43moptions\u001b[49m\u001b[43m.\u001b[49m\u001b[43mget\u001b[49m\u001b[43m(\u001b[49m\u001b[33;43m\"\u001b[39;49m\u001b[33;43mstorage_options\u001b[39;49m\u001b[33;43m\"\u001b[39;49m\u001b[43m,\u001b[49m\u001b[43m \u001b[49m\u001b[38;5;28;43;01mNone\u001b[39;49;00m\u001b[43m)\u001b[49m\u001b[43m,\u001b[49m\n\u001b[32m   1889\u001b[39m \u001b[43m\u001b[49m\u001b[43m)\u001b[49m\n\u001b[32m   1890\u001b[39m \u001b[38;5;28;01massert\u001b[39;00m \u001b[38;5;28mself\u001b[39m.handles \u001b[38;5;129;01mis\u001b[39;00m \u001b[38;5;129;01mnot\u001b[39;00m \u001b[38;5;28;01mNone\u001b[39;00m\n\u001b[32m   1891\u001b[39m f = \u001b[38;5;28mself\u001b[39m.handles.handle\n",
      "\u001b[36mFile \u001b[39m\u001b[32mc:\\Users\\user\\projects\\machine-learning\\.venv\\Lib\\site-packages\\pandas\\io\\common.py:873\u001b[39m, in \u001b[36mget_handle\u001b[39m\u001b[34m(path_or_buf, mode, encoding, compression, memory_map, is_text, errors, storage_options)\u001b[39m\n\u001b[32m    868\u001b[39m \u001b[38;5;28;01melif\u001b[39;00m \u001b[38;5;28misinstance\u001b[39m(handle, \u001b[38;5;28mstr\u001b[39m):\n\u001b[32m    869\u001b[39m     \u001b[38;5;66;03m# Check whether the filename is to be opened in binary mode.\u001b[39;00m\n\u001b[32m    870\u001b[39m     \u001b[38;5;66;03m# Binary mode does not support 'encoding' and 'newline'.\u001b[39;00m\n\u001b[32m    871\u001b[39m     \u001b[38;5;28;01mif\u001b[39;00m ioargs.encoding \u001b[38;5;129;01mand\u001b[39;00m \u001b[33m\"\u001b[39m\u001b[33mb\u001b[39m\u001b[33m\"\u001b[39m \u001b[38;5;129;01mnot\u001b[39;00m \u001b[38;5;129;01min\u001b[39;00m ioargs.mode:\n\u001b[32m    872\u001b[39m         \u001b[38;5;66;03m# Encoding\u001b[39;00m\n\u001b[32m--> \u001b[39m\u001b[32m873\u001b[39m         handle = \u001b[38;5;28;43mopen\u001b[39;49m\u001b[43m(\u001b[49m\n\u001b[32m    874\u001b[39m \u001b[43m            \u001b[49m\u001b[43mhandle\u001b[49m\u001b[43m,\u001b[49m\n\u001b[32m    875\u001b[39m \u001b[43m            \u001b[49m\u001b[43mioargs\u001b[49m\u001b[43m.\u001b[49m\u001b[43mmode\u001b[49m\u001b[43m,\u001b[49m\n\u001b[32m    876\u001b[39m \u001b[43m            \u001b[49m\u001b[43mencoding\u001b[49m\u001b[43m=\u001b[49m\u001b[43mioargs\u001b[49m\u001b[43m.\u001b[49m\u001b[43mencoding\u001b[49m\u001b[43m,\u001b[49m\n\u001b[32m    877\u001b[39m \u001b[43m            \u001b[49m\u001b[43merrors\u001b[49m\u001b[43m=\u001b[49m\u001b[43merrors\u001b[49m\u001b[43m,\u001b[49m\n\u001b[32m    878\u001b[39m \u001b[43m            \u001b[49m\u001b[43mnewline\u001b[49m\u001b[43m=\u001b[49m\u001b[33;43m\"\u001b[39;49m\u001b[33;43m\"\u001b[39;49m\u001b[43m,\u001b[49m\n\u001b[32m    879\u001b[39m \u001b[43m        \u001b[49m\u001b[43m)\u001b[49m\n\u001b[32m    880\u001b[39m     \u001b[38;5;28;01melse\u001b[39;00m:\n\u001b[32m    881\u001b[39m         \u001b[38;5;66;03m# Binary mode\u001b[39;00m\n\u001b[32m    882\u001b[39m         handle = \u001b[38;5;28mopen\u001b[39m(handle, ioargs.mode)\n",
      "\u001b[31mFileNotFoundError\u001b[39m: [Errno 2] No such file or directory: '/content/data/movies_metadata.csv'"
     ]
    }
   ],
   "source": [
    "df_movies = pd.read_csv(\"/content/data/movies_metadata.csv\")\n",
    "df_credits = pd.read_csv(\"/content/data/credits.csv\")\n",
    "df_keywords = pd.read_csv(\"/content/data/keywords.csv\")\n",
    "df_ratings = pd.read_csv(\"/content/data/ratings_small.csv\")\n",
    "df_links = pd.read_csv(\"/content/data/links.csv\")"
   ]
  },
  {
   "cell_type": "code",
   "execution_count": null,
   "id": "e969002c",
   "metadata": {},
   "outputs": [
    {
     "data": {
      "text/html": [
       "<div>\n",
       "<style scoped>\n",
       "    .dataframe tbody tr th:only-of-type {\n",
       "        vertical-align: middle;\n",
       "    }\n",
       "\n",
       "    .dataframe tbody tr th {\n",
       "        vertical-align: top;\n",
       "    }\n",
       "\n",
       "    .dataframe thead th {\n",
       "        text-align: right;\n",
       "    }\n",
       "</style>\n",
       "<table border=\"1\" class=\"dataframe\">\n",
       "  <thead>\n",
       "    <tr style=\"text-align: right;\">\n",
       "      <th></th>\n",
       "      <th>adult</th>\n",
       "      <th>belongs_to_collection</th>\n",
       "      <th>budget</th>\n",
       "      <th>genres</th>\n",
       "      <th>homepage</th>\n",
       "      <th>id</th>\n",
       "      <th>imdb_id</th>\n",
       "      <th>original_language</th>\n",
       "      <th>original_title</th>\n",
       "      <th>overview</th>\n",
       "      <th>...</th>\n",
       "      <th>release_date</th>\n",
       "      <th>revenue</th>\n",
       "      <th>runtime</th>\n",
       "      <th>spoken_languages</th>\n",
       "      <th>status</th>\n",
       "      <th>tagline</th>\n",
       "      <th>title</th>\n",
       "      <th>video</th>\n",
       "      <th>vote_average</th>\n",
       "      <th>vote_count</th>\n",
       "    </tr>\n",
       "  </thead>\n",
       "  <tbody>\n",
       "    <tr>\n",
       "      <th>0</th>\n",
       "      <td>False</td>\n",
       "      <td>{'id': 10194, 'name': 'Toy Story Collection', ...</td>\n",
       "      <td>30000000</td>\n",
       "      <td>[{'id': 16, 'name': 'Animation'}, {'id': 35, '...</td>\n",
       "      <td>http://toystory.disney.com/toy-story</td>\n",
       "      <td>862</td>\n",
       "      <td>tt0114709</td>\n",
       "      <td>en</td>\n",
       "      <td>Toy Story</td>\n",
       "      <td>Led by Woody, Andy's toys live happily in his ...</td>\n",
       "      <td>...</td>\n",
       "      <td>1995-10-30</td>\n",
       "      <td>373554033.0</td>\n",
       "      <td>81.0</td>\n",
       "      <td>[{'iso_639_1': 'en', 'name': 'English'}]</td>\n",
       "      <td>Released</td>\n",
       "      <td>NaN</td>\n",
       "      <td>Toy Story</td>\n",
       "      <td>False</td>\n",
       "      <td>7.7</td>\n",
       "      <td>5415.0</td>\n",
       "    </tr>\n",
       "    <tr>\n",
       "      <th>1</th>\n",
       "      <td>False</td>\n",
       "      <td>NaN</td>\n",
       "      <td>65000000</td>\n",
       "      <td>[{'id': 12, 'name': 'Adventure'}, {'id': 14, '...</td>\n",
       "      <td>NaN</td>\n",
       "      <td>8844</td>\n",
       "      <td>tt0113497</td>\n",
       "      <td>en</td>\n",
       "      <td>Jumanji</td>\n",
       "      <td>When siblings Judy and Peter discover an encha...</td>\n",
       "      <td>...</td>\n",
       "      <td>1995-12-15</td>\n",
       "      <td>262797249.0</td>\n",
       "      <td>104.0</td>\n",
       "      <td>[{'iso_639_1': 'en', 'name': 'English'}, {'iso...</td>\n",
       "      <td>Released</td>\n",
       "      <td>Roll the dice and unleash the excitement!</td>\n",
       "      <td>Jumanji</td>\n",
       "      <td>False</td>\n",
       "      <td>6.9</td>\n",
       "      <td>2413.0</td>\n",
       "    </tr>\n",
       "    <tr>\n",
       "      <th>2</th>\n",
       "      <td>False</td>\n",
       "      <td>{'id': 119050, 'name': 'Grumpy Old Men Collect...</td>\n",
       "      <td>0</td>\n",
       "      <td>[{'id': 10749, 'name': 'Romance'}, {'id': 35, ...</td>\n",
       "      <td>NaN</td>\n",
       "      <td>15602</td>\n",
       "      <td>tt0113228</td>\n",
       "      <td>en</td>\n",
       "      <td>Grumpier Old Men</td>\n",
       "      <td>A family wedding reignites the ancient feud be...</td>\n",
       "      <td>...</td>\n",
       "      <td>1995-12-22</td>\n",
       "      <td>0.0</td>\n",
       "      <td>101.0</td>\n",
       "      <td>[{'iso_639_1': 'en', 'name': 'English'}]</td>\n",
       "      <td>Released</td>\n",
       "      <td>Still Yelling. Still Fighting. Still Ready for...</td>\n",
       "      <td>Grumpier Old Men</td>\n",
       "      <td>False</td>\n",
       "      <td>6.5</td>\n",
       "      <td>92.0</td>\n",
       "    </tr>\n",
       "    <tr>\n",
       "      <th>3</th>\n",
       "      <td>False</td>\n",
       "      <td>NaN</td>\n",
       "      <td>16000000</td>\n",
       "      <td>[{'id': 35, 'name': 'Comedy'}, {'id': 18, 'nam...</td>\n",
       "      <td>NaN</td>\n",
       "      <td>31357</td>\n",
       "      <td>tt0114885</td>\n",
       "      <td>en</td>\n",
       "      <td>Waiting to Exhale</td>\n",
       "      <td>Cheated on, mistreated and stepped on, the wom...</td>\n",
       "      <td>...</td>\n",
       "      <td>1995-12-22</td>\n",
       "      <td>81452156.0</td>\n",
       "      <td>127.0</td>\n",
       "      <td>[{'iso_639_1': 'en', 'name': 'English'}]</td>\n",
       "      <td>Released</td>\n",
       "      <td>Friends are the people who let you be yourself...</td>\n",
       "      <td>Waiting to Exhale</td>\n",
       "      <td>False</td>\n",
       "      <td>6.1</td>\n",
       "      <td>34.0</td>\n",
       "    </tr>\n",
       "    <tr>\n",
       "      <th>4</th>\n",
       "      <td>False</td>\n",
       "      <td>{'id': 96871, 'name': 'Father of the Bride Col...</td>\n",
       "      <td>0</td>\n",
       "      <td>[{'id': 35, 'name': 'Comedy'}]</td>\n",
       "      <td>NaN</td>\n",
       "      <td>11862</td>\n",
       "      <td>tt0113041</td>\n",
       "      <td>en</td>\n",
       "      <td>Father of the Bride Part II</td>\n",
       "      <td>Just when George Banks has recovered from his ...</td>\n",
       "      <td>...</td>\n",
       "      <td>1995-02-10</td>\n",
       "      <td>76578911.0</td>\n",
       "      <td>106.0</td>\n",
       "      <td>[{'iso_639_1': 'en', 'name': 'English'}]</td>\n",
       "      <td>Released</td>\n",
       "      <td>Just When His World Is Back To Normal... He's ...</td>\n",
       "      <td>Father of the Bride Part II</td>\n",
       "      <td>False</td>\n",
       "      <td>5.7</td>\n",
       "      <td>173.0</td>\n",
       "    </tr>\n",
       "  </tbody>\n",
       "</table>\n",
       "<p>5 rows × 24 columns</p>\n",
       "</div>"
      ],
      "text/plain": [
       "   adult                              belongs_to_collection    budget  \\\n",
       "0  False  {'id': 10194, 'name': 'Toy Story Collection', ...  30000000   \n",
       "1  False                                                NaN  65000000   \n",
       "2  False  {'id': 119050, 'name': 'Grumpy Old Men Collect...         0   \n",
       "3  False                                                NaN  16000000   \n",
       "4  False  {'id': 96871, 'name': 'Father of the Bride Col...         0   \n",
       "\n",
       "                                              genres  \\\n",
       "0  [{'id': 16, 'name': 'Animation'}, {'id': 35, '...   \n",
       "1  [{'id': 12, 'name': 'Adventure'}, {'id': 14, '...   \n",
       "2  [{'id': 10749, 'name': 'Romance'}, {'id': 35, ...   \n",
       "3  [{'id': 35, 'name': 'Comedy'}, {'id': 18, 'nam...   \n",
       "4                     [{'id': 35, 'name': 'Comedy'}]   \n",
       "\n",
       "                               homepage     id    imdb_id original_language  \\\n",
       "0  http://toystory.disney.com/toy-story    862  tt0114709                en   \n",
       "1                                   NaN   8844  tt0113497                en   \n",
       "2                                   NaN  15602  tt0113228                en   \n",
       "3                                   NaN  31357  tt0114885                en   \n",
       "4                                   NaN  11862  tt0113041                en   \n",
       "\n",
       "                original_title  \\\n",
       "0                    Toy Story   \n",
       "1                      Jumanji   \n",
       "2             Grumpier Old Men   \n",
       "3            Waiting to Exhale   \n",
       "4  Father of the Bride Part II   \n",
       "\n",
       "                                            overview  ... release_date  \\\n",
       "0  Led by Woody, Andy's toys live happily in his ...  ...   1995-10-30   \n",
       "1  When siblings Judy and Peter discover an encha...  ...   1995-12-15   \n",
       "2  A family wedding reignites the ancient feud be...  ...   1995-12-22   \n",
       "3  Cheated on, mistreated and stepped on, the wom...  ...   1995-12-22   \n",
       "4  Just when George Banks has recovered from his ...  ...   1995-02-10   \n",
       "\n",
       "       revenue runtime                                   spoken_languages  \\\n",
       "0  373554033.0    81.0           [{'iso_639_1': 'en', 'name': 'English'}]   \n",
       "1  262797249.0   104.0  [{'iso_639_1': 'en', 'name': 'English'}, {'iso...   \n",
       "2          0.0   101.0           [{'iso_639_1': 'en', 'name': 'English'}]   \n",
       "3   81452156.0   127.0           [{'iso_639_1': 'en', 'name': 'English'}]   \n",
       "4   76578911.0   106.0           [{'iso_639_1': 'en', 'name': 'English'}]   \n",
       "\n",
       "     status                                            tagline  \\\n",
       "0  Released                                                NaN   \n",
       "1  Released          Roll the dice and unleash the excitement!   \n",
       "2  Released  Still Yelling. Still Fighting. Still Ready for...   \n",
       "3  Released  Friends are the people who let you be yourself...   \n",
       "4  Released  Just When His World Is Back To Normal... He's ...   \n",
       "\n",
       "                         title  video vote_average vote_count  \n",
       "0                    Toy Story  False          7.7     5415.0  \n",
       "1                      Jumanji  False          6.9     2413.0  \n",
       "2             Grumpier Old Men  False          6.5       92.0  \n",
       "3            Waiting to Exhale  False          6.1       34.0  \n",
       "4  Father of the Bride Part II  False          5.7      173.0  \n",
       "\n",
       "[5 rows x 24 columns]"
      ]
     },
     "execution_count": 53,
     "metadata": {},
     "output_type": "execute_result"
    }
   ],
   "source": [
    "df_movies"
   ]
  },
  {
   "cell_type": "code",
   "execution_count": null,
   "id": "792777ff",
   "metadata": {},
   "outputs": [],
   "source": [
    "df_movies.info(verbose=True, show_counts=True)"
   ]
  },
  {
   "cell_type": "code",
   "execution_count": null,
   "id": "0f0429f4",
   "metadata": {},
   "outputs": [],
   "source": [
    "df_movies.duplicated().sum()"
   ]
  },
  {
   "cell_type": "code",
   "execution_count": null,
   "id": "cca65498",
   "metadata": {},
   "outputs": [],
   "source": [
    "df_movies.describe().T"
   ]
  },
  {
   "cell_type": "markdown",
   "id": "6875f834",
   "metadata": {},
   "source": [
    "### Титры"
   ]
  },
  {
   "cell_type": "code",
   "execution_count": null,
   "id": "973f6830",
   "metadata": {},
   "outputs": [],
   "source": [
    "df_credits"
   ]
  },
  {
   "cell_type": "code",
   "execution_count": null,
   "id": "848bbe76",
   "metadata": {},
   "outputs": [],
   "source": [
    "df_credits.info(verbose=True, show_counts=True)"
   ]
  },
  {
   "cell_type": "code",
   "execution_count": null,
   "id": "26798b8a",
   "metadata": {},
   "outputs": [],
   "source": [
    "df_credits.duplicated().sum()"
   ]
  },
  {
   "cell_type": "code",
   "execution_count": null,
   "id": "f8ccc0f3",
   "metadata": {},
   "outputs": [],
   "source": [
    "df_credits.describe().T"
   ]
  },
  {
   "cell_type": "markdown",
   "id": "78c7fb35",
   "metadata": {},
   "source": [
    "### Ключевые слова"
   ]
  },
  {
   "cell_type": "code",
   "execution_count": null,
   "id": "c17ee21d",
   "metadata": {},
   "outputs": [],
   "source": [
    "df_keywords"
   ]
  },
  {
   "cell_type": "code",
   "execution_count": null,
   "id": "3fb4d925",
   "metadata": {},
   "outputs": [],
   "source": [
    "df_keywords.info(verbose=True, show_counts=True)"
   ]
  },
  {
   "cell_type": "code",
   "execution_count": null,
   "id": "c4dc0705",
   "metadata": {},
   "outputs": [],
   "source": [
    "df_keywords.duplicated().sum()"
   ]
  },
  {
   "cell_type": "code",
   "execution_count": null,
   "id": "a558902e",
   "metadata": {},
   "outputs": [],
   "source": [
    "df_keywords.describe().T"
   ]
  },
  {
   "cell_type": "markdown",
   "id": "99ae9597",
   "metadata": {},
   "source": [
    "### Рейтинги"
   ]
  },
  {
   "cell_type": "code",
   "execution_count": null,
   "id": "383b4293",
   "metadata": {},
   "outputs": [],
   "source": [
    "df_ratings"
   ]
  },
  {
   "cell_type": "code",
   "execution_count": null,
   "id": "cf32721e",
   "metadata": {},
   "outputs": [],
   "source": [
    "df_ratings.info(verbose=True, show_counts=True)"
   ]
  },
  {
   "cell_type": "code",
   "execution_count": null,
   "id": "bc251daf",
   "metadata": {},
   "outputs": [],
   "source": [
    "df_ratings.duplicated().sum()"
   ]
  },
  {
   "cell_type": "code",
   "execution_count": null,
   "id": "8d4d4b5e",
   "metadata": {},
   "outputs": [],
   "source": [
    "df_ratings.describe().T"
   ]
  },
  {
   "cell_type": "markdown",
   "id": "4de4218e",
   "metadata": {},
   "source": [
    "### Ссылки"
   ]
  },
  {
   "cell_type": "code",
   "execution_count": null,
   "id": "732e4881",
   "metadata": {},
   "outputs": [],
   "source": [
    "df_links"
   ]
  },
  {
   "cell_type": "code",
   "execution_count": null,
   "id": "271fa04d",
   "metadata": {},
   "outputs": [],
   "source": [
    "df_links.info(verbose=True, show_counts=True)"
   ]
  },
  {
   "cell_type": "code",
   "execution_count": null,
   "id": "e826dddc",
   "metadata": {},
   "outputs": [],
   "source": [
    "df_links.duplicated().sum()"
   ]
  },
  {
   "cell_type": "code",
   "execution_count": null,
   "id": "b14b32e3",
   "metadata": {},
   "outputs": [],
   "source": [
    "df_links.describe().T"
   ]
  },
  {
   "cell_type": "markdown",
   "id": "30b0952d",
   "metadata": {},
   "source": [
    "## Трансформация"
   ]
  },
  {
   "cell_type": "code",
   "execution_count": null,
   "id": "62bc8d18",
   "metadata": {},
   "outputs": [],
   "source": [
    "df_movies = df_movies.dropna(subset=['vote_average', 'vote_count', 'title'])"
   ]
  },
  {
   "cell_type": "code",
   "execution_count": null,
   "id": "cbe9fada",
   "metadata": {},
   "outputs": [],
   "source": [
    "df_movies['vote_count'] = pd.to_numeric(df_movies['vote_count'], errors='coerce')\n",
    "df_movies['vote_average'] = pd.to_numeric(df_movies['vote_average'], errors='coerce')\n",
    "\n",
    "df_movies = df_movies.dropna(subset=['vote_count', 'vote_average'])"
   ]
  },
  {
   "cell_type": "code",
   "execution_count": null,
   "id": "fb3f63fb",
   "metadata": {},
   "outputs": [],
   "source": [
    "def parse_genres(genres_str):\n",
    "    try:\n",
    "        genres_list = ast.literal_eval(genres_str)\n",
    "        if isinstance(genres_list, list):\n",
    "            return '|'.join([genre['name'] for genre in genres_list])\n",
    "        else:\n",
    "            return ''\n",
    "    except Exception:\n",
    "        return ''\n",
    "    \n",
    "df_movies['genres'] = df_movies['genres'].apply(parse_genres)"
   ]
  },
  {
   "cell_type": "code",
   "execution_count": null,
   "id": "7b7bb429",
   "metadata": {},
   "outputs": [
    {
     "name": "stdout",
     "output_type": "stream",
     "text": [
      "Средний рейтинг по всем фильмам (C): 5.62\n",
      "Минимальное количество голосов (m): 160\n"
     ]
    }
   ],
   "source": [
    "C = df_movies['vote_average'].mean()\n",
    "m = df_movies['vote_count'].quantile(0.90)\n",
    "\n",
    "print(f\"Средний рейтинг по всем фильмам (C): {C:.2f}\")\n",
    "print(f\"Минимальное количество голосов (m): {m:.0f}\")"
   ]
  },
  {
   "cell_type": "code",
   "execution_count": null,
   "id": "17aed985",
   "metadata": {},
   "outputs": [],
   "source": [
    "def weighted_rating(df, m=m, C=C):\n",
    "    v = df['vote_count']\n",
    "    R = df['vote_average']\n",
    "    return (v / (v + m) * R) + (m / (v + m) * C)\n",
    "\n",
    "df_movies['weighted_rating'] = df_movies.apply(weighted_rating, axis=1)"
   ]
  },
  {
   "cell_type": "code",
   "execution_count": null,
   "id": "c403a1ae",
   "metadata": {},
   "outputs": [
    {
     "name": "stdout",
     "output_type": "stream",
     "text": [
      "Топ-10 фильмов по взвешенному рейтингу:\n",
      "                             title  weighted_rating  vote_count  vote_average\n",
      "314       The Shawshank Redemption         8.445869      8358.0           8.5\n",
      "834                  The Godfather         8.425439      6024.0           8.5\n",
      "10309  Dilwale Dulhania Le Jayenge         8.421453       661.0           9.1\n",
      "12481              The Dark Knight         8.265477     12269.0           8.3\n",
      "2843                    Fight Club         8.256385      9678.0           8.3\n",
      "292                   Pulp Fiction         8.251406      8670.0           8.3\n",
      "522               Schindler's List         8.206639      4436.0           8.3\n",
      "23673                     Whiplash         8.205404      4376.0           8.3\n",
      "5481                 Spirited Away         8.196055      3968.0           8.3\n",
      "2211             Life Is Beautiful         8.187171      3643.0           8.3\n"
     ]
    }
   ],
   "source": [
    "top_10 = df_movies[['title', 'weighted_rating', 'vote_count', 'vote_average']].sort_values('weighted_rating', ascending=False).head(10)\n",
    "print(\"Топ-10 фильмов по взвешенному рейтингу:\")\n",
    "print(top_10)"
   ]
  },
  {
   "cell_type": "markdown",
   "id": "262ad11e",
   "metadata": {},
   "source": [
    "___"
   ]
  },
  {
   "cell_type": "markdown",
   "id": "b1562ad4",
   "metadata": {},
   "source": [
    "## Обогащение данных (Объединяем с credits и keywords)"
   ]
  },
  {
   "cell_type": "code",
   "execution_count": null,
   "id": "ffc3f5c2",
   "metadata": {},
   "outputs": [],
   "source": [
    "def getDirector(crew_str):\n",
    "    try:\n",
    "        crew_list = ast.literal_eval(crew_str)\n",
    "        for person in crew_list:\n",
    "            if person['job'] == 'Director':\n",
    "                return person['name']\n",
    "        return ''\n",
    "    except Exception:\n",
    "        return ''\n",
    "\n",
    "def getThreeActors(cast_str):\n",
    "    try:\n",
    "        cast_list = ast.literal_eval(cast_str)\n",
    "        if isinstance(cast_list, list):\n",
    "            actors = [actor['name'] for actor in cast_list[:3]] # Берем первых 3-х актеров\n",
    "            return '|'.join(actors)\n",
    "        else:\n",
    "            return ''\n",
    "    except Exception:\n",
    "        return ''\n",
    "\n",
    "def get_keywords(keywords_str):\n",
    "    try:\n",
    "        keywords_list = ast.literal_eval(keywords_str)\n",
    "        if isinstance(keywords_list, list):\n",
    "            keywords = [kw['name'] for kw in keywords_list]\n",
    "            return '|'.join(keywords)\n",
    "        else:\n",
    "            return ''\n",
    "    except Exception:\n",
    "        return ''\n",
    "    \n",
    "\n",
    "df_credits['director'] = df_credits['crew'].apply(getDirector)\n",
    "df_credits['actors'] = df_credits['cast'].apply(getThreeActors)\n",
    "df_keywords['parsed_keywords'] = df_keywords['keywords'].apply(get_keywords)"
   ]
  },
  {
   "cell_type": "code",
   "execution_count": null,
   "id": "417dbdfe",
   "metadata": {},
   "outputs": [],
   "source": [
    "def safeConvert(df, column_name):\n",
    "    df[column_name] = pd.to_numeric(df[column_name], errors='coerce')\n",
    "    df = df.dropna(subset=[column_name])\n",
    "    df[column_name] = df[column_name].astype('int64')\n",
    "    return df\n",
    "\n",
    "# конвертируем id\n",
    "df_movies = safeConvert(df_movies, 'id')\n",
    "df_credits = safeConvert(df_credits, 'id')\n",
    "df_keywords = safeConvert(df_keywords, 'id')"
   ]
  },
  {
   "cell_type": "code",
   "execution_count": null,
   "id": "a2ba289b",
   "metadata": {},
   "outputs": [],
   "source": [
    "df_movies = df_movies.merge(df_credits[['id', 'director', 'actors']], on='id', how='left')\n",
    "df_movies = df_movies.merge(df_keywords[['id', 'parsed_keywords']], on='id', how='left')"
   ]
  },
  {
   "cell_type": "code",
   "execution_count": null,
   "id": "6f2a41c2",
   "metadata": {},
   "outputs": [],
   "source": [
    "df_movies['director'] = df_movies['director'].fillna('')\n",
    "df_movies['actors'] = df_movies['actors'].fillna('')\n",
    "df_movies['parsed_keywords'] = df_movies['parsed_keywords'].fillna('')\n",
    "df_movies['overview'] = df_movies['overview'].fillna('')"
   ]
  },
  {
   "cell_type": "code",
   "execution_count": null,
   "id": "4785bef0",
   "metadata": {},
   "outputs": [],
   "source": [
    "df_movies['metadata_soup'] = (\n",
    "    df_movies['overview'] + ' ' + \n",
    "    df_movies['director'] + ' ' + \n",
    "    df_movies['actors'] + ' ' + \n",
    "    df_movies['parsed_keywords'] + ' ' + \n",
    "    df_movies['genres']\n",
    ")"
   ]
  },
  {
   "cell_type": "code",
   "execution_count": null,
   "id": "0965d3b5",
   "metadata": {},
   "outputs": [],
   "source": [
    "columns_to_drop = [\n",
    "    'adult',\n",
    "    'belongs_to_collection',\n",
    "    'budget',\n",
    "    'homepage',\n",
    "    'imdb_id',\n",
    "    'original_language',\n",
    "    'original_title',\n",
    "    'production_companies',\n",
    "    'production_countries',\n",
    "    'revenue',\n",
    "    'spoken_languages', \n",
    "    'status',\n",
    "    'tagline',\n",
    "    'video', \n",
    "    'poster_path',\n",
    "]\n",
    "\n",
    "df_movies = df_movies.drop(columns=columns_to_drop, errors='ignore')"
   ]
  },
  {
   "cell_type": "markdown",
   "id": "57edb7ab",
   "metadata": {},
   "source": [
    "### Подготовка данных для коллаборативной фильтрации"
   ]
  },
  {
   "cell_type": "code",
   "execution_count": null,
   "id": "9701fcda",
   "metadata": {},
   "outputs": [],
   "source": [
    "df_links = safeConvert(df_links, 'tmdbId')"
   ]
  },
  {
   "cell_type": "code",
   "execution_count": null,
   "id": "048128a8",
   "metadata": {},
   "outputs": [],
   "source": [
    "ratings_merged = df_ratings.merge(df_links[['movieId', 'tmdbId']], on='movieId', how='inner')\n",
    "\n",
    "ratings_merged = ratings_merged.rename(columns={'tmdbId': 'id'})\n",
    "ratings_final = ratings_merged.merge(df_movies[['id', 'title']], on='id', how='inner')\n",
    "ratings_final = ratings_final[['userId', 'id', 'rating', 'title']]\n",
    "ratings_final = ratings_final.rename(columns={'id': 'movie_id'})\n",
    "\n",
    "print(\"Размер итогового датафрейма:\", ratings_final.shape)\n",
    "print(ratings_final.head())"
   ]
  },
  {
   "cell_type": "markdown",
   "id": "8d6599a3",
   "metadata": {},
   "source": [
    "## Оптимизированные рекомендации"
   ]
  },
  {
   "cell_type": "markdown",
   "id": "290fcac3",
   "metadata": {},
   "source": [
    "**Топ-10 популярных фильмов на основе взвешенных рейтингов**"
   ]
  },
  {
   "cell_type": "code",
   "execution_count": null,
   "id": "d8cb01be",
   "metadata": {},
   "outputs": [],
   "source": [
    "df_movies_copy = df_movies.copy()"
   ]
  },
  {
   "cell_type": "code",
   "execution_count": null,
   "id": "5c3e0ee3",
   "metadata": {},
   "outputs": [],
   "source": [
    "# Рассчитываем параметры для формулы\n",
    "v = df_movies_copy[\"vote_count\"]\n",
    "R = df_movies_copy[\"vote_average\"]\n",
    "m = v.quantile(0.90)\n",
    "c = R.mean()\n",
    "\n",
    "print(f\"Пороговое значение количества оценок (m): {m:.0f}\")\n",
    "print(f\"Средний рейтинг по всем фильмам (c): {c:.2f}\")"
   ]
  },
  {
   "cell_type": "code",
   "execution_count": null,
   "id": "95d3693c",
   "metadata": {},
   "outputs": [],
   "source": [
    "# Применяем упрощенную формулу\n",
    "df_movies_copy['w_score'] = ((v * R) + (m * c)) / (v + m)"
   ]
  },
  {
   "cell_type": "code",
   "execution_count": null,
   "id": "d6c1a21f",
   "metadata": {},
   "outputs": [],
   "source": [
    "top_10_new = df_movies_copy.sort_values('w_score', ascending=False).head(10)\n",
    "print(\"Топ-10 фильмов:\")\n",
    "print(top_10_new[['title', 'w_score', 'vote_average', 'vote_count']])"
   ]
  },
  {
   "cell_type": "code",
   "execution_count": null,
   "id": "4784e2ae",
   "metadata": {},
   "outputs": [
    {
     "name": "stderr",
     "output_type": "stream",
     "text": [
      "C:\\Users\\user\\AppData\\Local\\Temp\\ipykernel_4876\\1881408928.py:3: FutureWarning: \n",
      "\n",
      "Passing `palette` without assigning `hue` is deprecated and will be removed in v0.14.0. Assign the `y` variable to `hue` and set `legend=False` for the same effect.\n",
      "\n",
      "  sns.barplot(x='w_score', y='title', data=top_10_popular_new, palette='magma')\n"
     ]
    },
    {
     "data": {
      "image/png": "[encoded data removed]",
      "text/plain": [
       "<Figure size 1200x800 with 1 Axes>"
      ]
     },
     "metadata": {},
     "output_type": "display_data"
    }
   ],
   "source": [
    "plt.figure(figsize=(12, 8))\n",
    "sns.barplot(x='w_score', y='title', data=top_10_new, palette='magma')\n",
    "plt.xlabel('Взвешенный рейтинг (w_score)')\n",
    "plt.ylabel('Название фильма')\n",
    "plt.title('Топ-10 фильмов с наивысшим взвешенным рейтингом')\n",
    "plt.tight_layout()\n",
    "plt.show()"
   ]
  },
  {
   "cell_type": "markdown",
   "id": "14ec6041",
   "metadata": {},
   "source": [
    "**Рекомендации по жанру**"
   ]
  },
  {
   "cell_type": "code",
   "execution_count": null,
   "id": "aaecfa2a",
   "metadata": {},
   "outputs": [],
   "source": [
    "def get_top_movies_by_genre(genre_name, n=10):\n",
    "    genre_movies = df_movies[df_movies['genres'].str.contains(genre_name, case=False, na=False)]\n",
    "    return genre_movies.sort_values('weighted_rating', ascending=False).head(n)\n",
    "\n",
    "get_top_movies_by_genre('Drama')"
   ]
  },
  {
   "cell_type": "markdown",
   "id": "d3c3ad14",
   "metadata": {},
   "source": [
    "**Content-Based по названию фильма**"
   ]
  },
  {
   "cell_type": "code",
   "execution_count": null,
   "id": "3c6e7b25",
   "metadata": {},
   "outputs": [],
   "source": [
    "min_votes = 50\n",
    "popular_movies = df_movies[df_movies['vote_count'] >= min_votes].copy()\n",
    "\n",
    "tfidf = TfidfVectorizer(stop_words='english')\n",
    "tfidf_matrix = tfidf.fit_transform(popular_movies['metadata_soup'])\n",
    "\n",
    "model_knn = NearestNeighbors(metric='cosine', algorithm='brute')\n",
    "model_knn.fit(tfidf_matrix)\n",
    "\n",
    "indices = pd.Series(popular_movies.index, index=popular_movies['title']).drop_duplicates()\n",
    "\n",
    "def recommend(title, n=10):\n",
    "    if title not in indices:\n",
    "        return f\"Фильм '{title}' не найден в базе данных\"\n",
    "    idx = indices[title]\n",
    "    distances, indices_knn = model_knn.kneighbors(tfidf_matrix[idx], n_neighbors=n+1)\n",
    "    similar_indices = indices_knn[0][1:]  # пропускаем сам фильм\n",
    "    return popular_movies.iloc[similar_indices][['title', 'genres', 'weighted_rating']]\n",
    "\n",
    "recommend('Toy Story')"
   ]
  },
  {
   "cell_type": "markdown",
   "id": "f4c50a86",
   "metadata": {},
   "source": [
    "## Коллаборативная фильтрация через pivot_table и корреляцию"
   ]
  },
  {
   "cell_type": "code",
   "execution_count": null,
   "id": "f5a63ce1",
   "metadata": {},
   "outputs": [
    {
     "name": "stderr",
     "output_type": "stream",
     "text": [
      "C:\\Users\\user\\AppData\\Local\\Temp\\ipykernel_4876\\1973325628.py:3: PerformanceWarning: The following operation may generate 2383918007 cells in the resulting pandas object.\n",
      "  ratings_pivot = ratings_final.pivot_table(index='userId', columns='title', values='rating')\n"
     ]
    },
    {
     "ename": "MemoryError",
     "evalue": "Unable to allocate 2.22 GiB for an array with shape (270623, 8809) and data type bool",
     "output_type": "error",
     "traceback": [
      "\u001b[31m---------------------------------------------------------------------------\u001b[39m",
      "\u001b[31mMemoryError\u001b[39m                               Traceback (most recent call last)",
      "\u001b[36mCell\u001b[39m\u001b[36m \u001b[39m\u001b[32mIn[94]\u001b[39m\u001b[32m, line 3\u001b[39m\n\u001b[32m      1\u001b[39m \u001b[38;5;66;03m# Создаем pivot-таблицу\u001b[39;00m\n\u001b[32m      2\u001b[39m \u001b[38;5;66;03m# Строки - пользователи, столбцы - фильмы, значения - рейтинги\u001b[39;00m\n\u001b[32m----> \u001b[39m\u001b[32m3\u001b[39m ratings_pivot = \u001b[43mratings_final\u001b[49m\u001b[43m.\u001b[49m\u001b[43mpivot_table\u001b[49m\u001b[43m(\u001b[49m\u001b[43mindex\u001b[49m\u001b[43m=\u001b[49m\u001b[33;43m'\u001b[39;49m\u001b[33;43muserId\u001b[39;49m\u001b[33;43m'\u001b[39;49m\u001b[43m,\u001b[49m\u001b[43m \u001b[49m\u001b[43mcolumns\u001b[49m\u001b[43m=\u001b[49m\u001b[33;43m'\u001b[39;49m\u001b[33;43mtitle\u001b[39;49m\u001b[33;43m'\u001b[39;49m\u001b[43m,\u001b[49m\u001b[43m \u001b[49m\u001b[43mvalues\u001b[49m\u001b[43m=\u001b[49m\u001b[33;43m'\u001b[39;49m\u001b[33;43mrating\u001b[39;49m\u001b[33;43m'\u001b[39;49m\u001b[43m)\u001b[49m\n\u001b[32m      4\u001b[39m ratings_pivot.fillna(\u001b[32m0\u001b[39m, inplace=\u001b[38;5;28;01mTrue\u001b[39;00m)\n\u001b[32m      5\u001b[39m ratings_pivot.head()\n",
      "\u001b[36mFile \u001b[39m\u001b[32mc:\\Users\\user\\projects\\machine-learning\\.venv\\Lib\\site-packages\\pandas\\core\\frame.py:9516\u001b[39m, in \u001b[36mDataFrame.pivot_table\u001b[39m\u001b[34m(self, values, index, columns, aggfunc, fill_value, margins, dropna, margins_name, observed, sort)\u001b[39m\n\u001b[32m   9499\u001b[39m \u001b[38;5;129m@Substitution\u001b[39m(\u001b[33m\"\u001b[39m\u001b[33m\"\u001b[39m)\n\u001b[32m   9500\u001b[39m \u001b[38;5;129m@Appender\u001b[39m(_shared_docs[\u001b[33m\"\u001b[39m\u001b[33mpivot_table\u001b[39m\u001b[33m\"\u001b[39m])\n\u001b[32m   9501\u001b[39m \u001b[38;5;28;01mdef\u001b[39;00m\u001b[38;5;250m \u001b[39m\u001b[34mpivot_table\u001b[39m(\n\u001b[32m   (...)\u001b[39m\u001b[32m   9512\u001b[39m     sort: \u001b[38;5;28mbool\u001b[39m = \u001b[38;5;28;01mTrue\u001b[39;00m,\n\u001b[32m   9513\u001b[39m ) -> DataFrame:\n\u001b[32m   9514\u001b[39m     \u001b[38;5;28;01mfrom\u001b[39;00m\u001b[38;5;250m \u001b[39m\u001b[34;01mpandas\u001b[39;00m\u001b[34;01m.\u001b[39;00m\u001b[34;01mcore\u001b[39;00m\u001b[34;01m.\u001b[39;00m\u001b[34;01mreshape\u001b[39;00m\u001b[34;01m.\u001b[39;00m\u001b[34;01mpivot\u001b[39;00m\u001b[38;5;250m \u001b[39m\u001b[38;5;28;01mimport\u001b[39;00m pivot_table\n\u001b[32m-> \u001b[39m\u001b[32m9516\u001b[39m     \u001b[38;5;28;01mreturn\u001b[39;00m \u001b[43mpivot_table\u001b[49m\u001b[43m(\u001b[49m\n\u001b[32m   9517\u001b[39m \u001b[43m        \u001b[49m\u001b[38;5;28;43mself\u001b[39;49m\u001b[43m,\u001b[49m\n\u001b[32m   9518\u001b[39m \u001b[43m        \u001b[49m\u001b[43mvalues\u001b[49m\u001b[43m=\u001b[49m\u001b[43mvalues\u001b[49m\u001b[43m,\u001b[49m\n\u001b[32m   9519\u001b[39m \u001b[43m        \u001b[49m\u001b[43mindex\u001b[49m\u001b[43m=\u001b[49m\u001b[43mindex\u001b[49m\u001b[43m,\u001b[49m\n\u001b[32m   9520\u001b[39m \u001b[43m        \u001b[49m\u001b[43mcolumns\u001b[49m\u001b[43m=\u001b[49m\u001b[43mcolumns\u001b[49m\u001b[43m,\u001b[49m\n\u001b[32m   9521\u001b[39m \u001b[43m        \u001b[49m\u001b[43maggfunc\u001b[49m\u001b[43m=\u001b[49m\u001b[43maggfunc\u001b[49m\u001b[43m,\u001b[49m\n\u001b[32m   9522\u001b[39m \u001b[43m        \u001b[49m\u001b[43mfill_value\u001b[49m\u001b[43m=\u001b[49m\u001b[43mfill_value\u001b[49m\u001b[43m,\u001b[49m\n\u001b[32m   9523\u001b[39m \u001b[43m        \u001b[49m\u001b[43mmargins\u001b[49m\u001b[43m=\u001b[49m\u001b[43mmargins\u001b[49m\u001b[43m,\u001b[49m\n\u001b[32m   9524\u001b[39m \u001b[43m        \u001b[49m\u001b[43mdropna\u001b[49m\u001b[43m=\u001b[49m\u001b[43mdropna\u001b[49m\u001b[43m,\u001b[49m\n\u001b[32m   9525\u001b[39m \u001b[43m        \u001b[49m\u001b[43mmargins_name\u001b[49m\u001b[43m=\u001b[49m\u001b[43mmargins_name\u001b[49m\u001b[43m,\u001b[49m\n\u001b[32m   9526\u001b[39m \u001b[43m        \u001b[49m\u001b[43mobserved\u001b[49m\u001b[43m=\u001b[49m\u001b[43mobserved\u001b[49m\u001b[43m,\u001b[49m\n\u001b[32m   9527\u001b[39m \u001b[43m        \u001b[49m\u001b[43msort\u001b[49m\u001b[43m=\u001b[49m\u001b[43msort\u001b[49m\u001b[43m,\u001b[49m\n\u001b[32m   9528\u001b[39m \u001b[43m    \u001b[49m\u001b[43m)\u001b[49m\n",
      "\u001b[36mFile \u001b[39m\u001b[32mc:\\Users\\user\\projects\\machine-learning\\.venv\\Lib\\site-packages\\pandas\\core\\reshape\\pivot.py:102\u001b[39m, in \u001b[36mpivot_table\u001b[39m\u001b[34m(data, values, index, columns, aggfunc, fill_value, margins, dropna, margins_name, observed, sort)\u001b[39m\n\u001b[32m     99\u001b[39m     table = concat(pieces, keys=keys, axis=\u001b[32m1\u001b[39m)\n\u001b[32m    100\u001b[39m     \u001b[38;5;28;01mreturn\u001b[39;00m table.__finalize__(data, method=\u001b[33m\"\u001b[39m\u001b[33mpivot_table\u001b[39m\u001b[33m\"\u001b[39m)\n\u001b[32m--> \u001b[39m\u001b[32m102\u001b[39m table = \u001b[43m__internal_pivot_table\u001b[49m\u001b[43m(\u001b[49m\n\u001b[32m    103\u001b[39m \u001b[43m    \u001b[49m\u001b[43mdata\u001b[49m\u001b[43m,\u001b[49m\n\u001b[32m    104\u001b[39m \u001b[43m    \u001b[49m\u001b[43mvalues\u001b[49m\u001b[43m,\u001b[49m\n\u001b[32m    105\u001b[39m \u001b[43m    \u001b[49m\u001b[43mindex\u001b[49m\u001b[43m,\u001b[49m\n\u001b[32m    106\u001b[39m \u001b[43m    \u001b[49m\u001b[43mcolumns\u001b[49m\u001b[43m,\u001b[49m\n\u001b[32m    107\u001b[39m \u001b[43m    \u001b[49m\u001b[43maggfunc\u001b[49m\u001b[43m,\u001b[49m\n\u001b[32m    108\u001b[39m \u001b[43m    \u001b[49m\u001b[43mfill_value\u001b[49m\u001b[43m,\u001b[49m\n\u001b[32m    109\u001b[39m \u001b[43m    \u001b[49m\u001b[43mmargins\u001b[49m\u001b[43m,\u001b[49m\n\u001b[32m    110\u001b[39m \u001b[43m    \u001b[49m\u001b[43mdropna\u001b[49m\u001b[43m,\u001b[49m\n\u001b[32m    111\u001b[39m \u001b[43m    \u001b[49m\u001b[43mmargins_name\u001b[49m\u001b[43m,\u001b[49m\n\u001b[32m    112\u001b[39m \u001b[43m    \u001b[49m\u001b[43mobserved\u001b[49m\u001b[43m,\u001b[49m\n\u001b[32m    113\u001b[39m \u001b[43m    \u001b[49m\u001b[43msort\u001b[49m\u001b[43m,\u001b[49m\n\u001b[32m    114\u001b[39m \u001b[43m\u001b[49m\u001b[43m)\u001b[49m\n\u001b[32m    115\u001b[39m \u001b[38;5;28;01mreturn\u001b[39;00m table.__finalize__(data, method=\u001b[33m\"\u001b[39m\u001b[33mpivot_table\u001b[39m\u001b[33m\"\u001b[39m)\n",
      "\u001b[36mFile \u001b[39m\u001b[32mc:\\Users\\user\\projects\\machine-learning\\.venv\\Lib\\site-packages\\pandas\\core\\reshape\\pivot.py:203\u001b[39m, in \u001b[36m__internal_pivot_table\u001b[39m\u001b[34m(data, values, index, columns, aggfunc, fill_value, margins, dropna, margins_name, observed, sort)\u001b[39m\n\u001b[32m    201\u001b[39m         \u001b[38;5;28;01melse\u001b[39;00m:\n\u001b[32m    202\u001b[39m             to_unstack.append(name)\n\u001b[32m--> \u001b[39m\u001b[32m203\u001b[39m     table = \u001b[43magged\u001b[49m\u001b[43m.\u001b[49m\u001b[43munstack\u001b[49m\u001b[43m(\u001b[49m\u001b[43mto_unstack\u001b[49m\u001b[43m,\u001b[49m\u001b[43m \u001b[49m\u001b[43mfill_value\u001b[49m\u001b[43m=\u001b[49m\u001b[43mfill_value\u001b[49m\u001b[43m)\u001b[49m\n\u001b[32m    205\u001b[39m \u001b[38;5;28;01mif\u001b[39;00m \u001b[38;5;129;01mnot\u001b[39;00m dropna:\n\u001b[32m    206\u001b[39m     \u001b[38;5;28;01mif\u001b[39;00m \u001b[38;5;28misinstance\u001b[39m(table.index, MultiIndex):\n",
      "\u001b[36mFile \u001b[39m\u001b[32mc:\\Users\\user\\projects\\machine-learning\\.venv\\Lib\\site-packages\\pandas\\core\\frame.py:9935\u001b[39m, in \u001b[36mDataFrame.unstack\u001b[39m\u001b[34m(self, level, fill_value, sort)\u001b[39m\n\u001b[32m   9871\u001b[39m \u001b[38;5;250m\u001b[39m\u001b[33;03m\"\"\"\u001b[39;00m\n\u001b[32m   9872\u001b[39m \u001b[33;03mPivot a level of the (necessarily hierarchical) index labels.\u001b[39;00m\n\u001b[32m   9873\u001b[39m \n\u001b[32m   (...)\u001b[39m\u001b[32m   9931\u001b[39m \u001b[33;03mdtype: float64\u001b[39;00m\n\u001b[32m   9932\u001b[39m \u001b[33;03m\"\"\"\u001b[39;00m\n\u001b[32m   9933\u001b[39m \u001b[38;5;28;01mfrom\u001b[39;00m\u001b[38;5;250m \u001b[39m\u001b[34;01mpandas\u001b[39;00m\u001b[34;01m.\u001b[39;00m\u001b[34;01mcore\u001b[39;00m\u001b[34;01m.\u001b[39;00m\u001b[34;01mreshape\u001b[39;00m\u001b[34;01m.\u001b[39;00m\u001b[34;01mreshape\u001b[39;00m\u001b[38;5;250m \u001b[39m\u001b[38;5;28;01mimport\u001b[39;00m unstack\n\u001b[32m-> \u001b[39m\u001b[32m9935\u001b[39m result = \u001b[43munstack\u001b[49m\u001b[43m(\u001b[49m\u001b[38;5;28;43mself\u001b[39;49m\u001b[43m,\u001b[49m\u001b[43m \u001b[49m\u001b[43mlevel\u001b[49m\u001b[43m,\u001b[49m\u001b[43m \u001b[49m\u001b[43mfill_value\u001b[49m\u001b[43m,\u001b[49m\u001b[43m \u001b[49m\u001b[43msort\u001b[49m\u001b[43m)\u001b[49m\n\u001b[32m   9937\u001b[39m \u001b[38;5;28;01mreturn\u001b[39;00m result.__finalize__(\u001b[38;5;28mself\u001b[39m, method=\u001b[33m\"\u001b[39m\u001b[33munstack\u001b[39m\u001b[33m\"\u001b[39m)\n",
      "\u001b[36mFile \u001b[39m\u001b[32mc:\\Users\\user\\projects\\machine-learning\\.venv\\Lib\\site-packages\\pandas\\core\\reshape\\reshape.py:504\u001b[39m, in \u001b[36munstack\u001b[39m\u001b[34m(obj, level, fill_value, sort)\u001b[39m\n\u001b[32m    502\u001b[39m \u001b[38;5;28;01mif\u001b[39;00m \u001b[38;5;28misinstance\u001b[39m(obj, DataFrame):\n\u001b[32m    503\u001b[39m     \u001b[38;5;28;01mif\u001b[39;00m \u001b[38;5;28misinstance\u001b[39m(obj.index, MultiIndex):\n\u001b[32m--> \u001b[39m\u001b[32m504\u001b[39m         \u001b[38;5;28;01mreturn\u001b[39;00m \u001b[43m_unstack_frame\u001b[49m\u001b[43m(\u001b[49m\u001b[43mobj\u001b[49m\u001b[43m,\u001b[49m\u001b[43m \u001b[49m\u001b[43mlevel\u001b[49m\u001b[43m,\u001b[49m\u001b[43m \u001b[49m\u001b[43mfill_value\u001b[49m\u001b[43m=\u001b[49m\u001b[43mfill_value\u001b[49m\u001b[43m,\u001b[49m\u001b[43m \u001b[49m\u001b[43msort\u001b[49m\u001b[43m=\u001b[49m\u001b[43msort\u001b[49m\u001b[43m)\u001b[49m\n\u001b[32m    505\u001b[39m     \u001b[38;5;28;01melse\u001b[39;00m:\n\u001b[32m    506\u001b[39m         \u001b[38;5;28;01mreturn\u001b[39;00m obj.T.stack(future_stack=\u001b[38;5;28;01mTrue\u001b[39;00m)\n",
      "\u001b[36mFile \u001b[39m\u001b[32mc:\\Users\\user\\projects\\machine-learning\\.venv\\Lib\\site-packages\\pandas\\core\\reshape\\reshape.py:537\u001b[39m, in \u001b[36m_unstack_frame\u001b[39m\u001b[34m(obj, level, fill_value, sort)\u001b[39m\n\u001b[32m    535\u001b[39m     \u001b[38;5;28;01mreturn\u001b[39;00m obj._constructor_from_mgr(mgr, axes=mgr.axes)\n\u001b[32m    536\u001b[39m \u001b[38;5;28;01melse\u001b[39;00m:\n\u001b[32m--> \u001b[39m\u001b[32m537\u001b[39m     \u001b[38;5;28;01mreturn\u001b[39;00m \u001b[43munstacker\u001b[49m\u001b[43m.\u001b[49m\u001b[43mget_result\u001b[49m\u001b[43m(\u001b[49m\n\u001b[32m    538\u001b[39m \u001b[43m        \u001b[49m\u001b[43mobj\u001b[49m\u001b[43m.\u001b[49m\u001b[43m_values\u001b[49m\u001b[43m,\u001b[49m\u001b[43m \u001b[49m\u001b[43mvalue_columns\u001b[49m\u001b[43m=\u001b[49m\u001b[43mobj\u001b[49m\u001b[43m.\u001b[49m\u001b[43mcolumns\u001b[49m\u001b[43m,\u001b[49m\u001b[43m \u001b[49m\u001b[43mfill_value\u001b[49m\u001b[43m=\u001b[49m\u001b[43mfill_value\u001b[49m\n\u001b[32m    539\u001b[39m \u001b[43m    \u001b[49m\u001b[43m)\u001b[49m\n",
      "\u001b[36mFile \u001b[39m\u001b[32mc:\\Users\\user\\projects\\machine-learning\\.venv\\Lib\\site-packages\\pandas\\core\\reshape\\reshape.py:238\u001b[39m, in \u001b[36m_Unstacker.get_result\u001b[39m\u001b[34m(self, values, value_columns, fill_value)\u001b[39m\n\u001b[32m    235\u001b[39m \u001b[38;5;28;01mif\u001b[39;00m value_columns \u001b[38;5;129;01mis\u001b[39;00m \u001b[38;5;28;01mNone\u001b[39;00m \u001b[38;5;129;01mand\u001b[39;00m values.shape[\u001b[32m1\u001b[39m] != \u001b[32m1\u001b[39m:  \u001b[38;5;66;03m# pragma: no cover\u001b[39;00m\n\u001b[32m    236\u001b[39m     \u001b[38;5;28;01mraise\u001b[39;00m \u001b[38;5;167;01mValueError\u001b[39;00m(\u001b[33m\"\u001b[39m\u001b[33mmust pass column labels for multi-column data\u001b[39m\u001b[33m\"\u001b[39m)\n\u001b[32m--> \u001b[39m\u001b[32m238\u001b[39m values, _ = \u001b[38;5;28;43mself\u001b[39;49m\u001b[43m.\u001b[49m\u001b[43mget_new_values\u001b[49m\u001b[43m(\u001b[49m\u001b[43mvalues\u001b[49m\u001b[43m,\u001b[49m\u001b[43m \u001b[49m\u001b[43mfill_value\u001b[49m\u001b[43m)\u001b[49m\n\u001b[32m    239\u001b[39m columns = \u001b[38;5;28mself\u001b[39m.get_new_columns(value_columns)\n\u001b[32m    240\u001b[39m index = \u001b[38;5;28mself\u001b[39m.new_index\n",
      "\u001b[36mFile \u001b[39m\u001b[32mc:\\Users\\user\\projects\\machine-learning\\.venv\\Lib\\site-packages\\pandas\\core\\reshape\\reshape.py:293\u001b[39m, in \u001b[36m_Unstacker.get_new_values\u001b[39m\u001b[34m(self, values, fill_value)\u001b[39m\n\u001b[32m    290\u001b[39m         new_values.fill(fill_value)\n\u001b[32m    292\u001b[39m name = dtype.name\n\u001b[32m--> \u001b[39m\u001b[32m293\u001b[39m new_mask = \u001b[43mnp\u001b[49m\u001b[43m.\u001b[49m\u001b[43mzeros\u001b[49m\u001b[43m(\u001b[49m\u001b[43mresult_shape\u001b[49m\u001b[43m,\u001b[49m\u001b[43m \u001b[49m\u001b[43mdtype\u001b[49m\u001b[43m=\u001b[49m\u001b[38;5;28;43mbool\u001b[39;49m\u001b[43m)\u001b[49m\n\u001b[32m    295\u001b[39m \u001b[38;5;66;03m# we need to convert to a basic dtype\u001b[39;00m\n\u001b[32m    296\u001b[39m \u001b[38;5;66;03m# and possibly coerce an input to our output dtype\u001b[39;00m\n\u001b[32m    297\u001b[39m \u001b[38;5;66;03m# e.g. ints -> floats\u001b[39;00m\n\u001b[32m    298\u001b[39m \u001b[38;5;28;01mif\u001b[39;00m needs_i8_conversion(values.dtype):\n",
      "\u001b[31mMemoryError\u001b[39m: Unable to allocate 2.22 GiB for an array with shape (270623, 8809) and data type bool"
     ]
    }
   ],
   "source": [
    "ratings_pivot = ratings_final.pivot_table(index='userId', columns='title', values='rating')\n",
    "ratings_pivot.fillna(0, inplace=True)\n",
    "ratings_pivot.head()"
   ]
  },
  {
   "cell_type": "code",
   "execution_count": null,
   "id": "910b8cb8",
   "metadata": {},
   "outputs": [],
   "source": [
    "def same_movies(movie):\n",
    "    users_vote_film = ratings_pivot[movie]\n",
    "    similar_with = ratings_pivot.corrwith(users_vote_film)\n",
    "    similar_with = pd.DataFrame(similar_with, columns=['correlation'])\n",
    "    similar_with = similar_with.drop(movie, errors='ignore')\n",
    "    return similar_with.sort_values('correlation', ascending=False).head(10)\n",
    "\n",
    "same_movies('The Dark Knight')"
   ]
  },
  {
   "cell_type": "markdown",
   "id": "b7965600",
   "metadata": {},
   "source": [
    "## Сохранение моделей"
   ]
  },
  {
   "cell_type": "code",
   "execution_count": null,
   "id": "8c1a75eb",
   "metadata": {},
   "outputs": [],
   "source": [
    "top_10_new.to_csv('top_10_popular.csv', index=False) # Топ 10\n",
    "df_movies.to_csv('movies_metadata_clean.csv', index=False) # По жанру\n",
    "\n",
    "with open('vectorizer.pkl', 'wb') as f:\n",
    "    pickle.dump(tfidf, f)\n",
    "with open('knn_model.pkl', 'wb') as f:\n",
    "    pickle.dump(model_knn, f)\n",
    "popular_movies.to_csv('popular_movies.csv', index=False) # По содержанию\n",
    "\n",
    "ratings_pivot.to_csv('ratings_pivot.csv') # Коллаборативная фильтрация"
   ]
  }
 ],
 "metadata": {
  "kernelspec": {
   "display_name": ".venv",
   "language": "python",
   "name": "python3"
  },
  "language_info": {
   "codemirror_mode": {
    "name": "ipython",
    "version": 3
   },
   "file_extension": ".py",
   "mimetype": "text/x-python",
   "name": "python",
   "nbconvert_exporter": "python",
   "pygments_lexer": "ipython3",
   "version": "3.13.7"
  }
 },
 "nbformat": 4,
 "nbformat_minor": 5
}
